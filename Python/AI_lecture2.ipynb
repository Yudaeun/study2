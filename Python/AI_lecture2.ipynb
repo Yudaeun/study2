{
  "nbformat": 4,
  "nbformat_minor": 0,
  "metadata": {
    "colab": {
      "name": "AI-lecture.ipynb",
      "provenance": [],
      "collapsed_sections": [
        "_iDYMK8fC3oD",
        "FZgiI1_FNUaO",
        "YxPuTZZrMJWR"
      ]
    },
    "kernelspec": {
      "name": "python3",
      "display_name": "Python 3"
    },
    "language_info": {
      "name": "python"
    }
  },
  "cells": [
    {
      "cell_type": "markdown",
      "source": [
        "# 인공지능 응용 수업 정리"
      ],
      "metadata": {
        "id": "kX-bpY1DA6le"
      }
    },
    {
      "cell_type": "code",
      "execution_count": null,
      "metadata": {
        "id": "C9j9rD2aA59S"
      },
      "outputs": [],
      "source": [
        "import numpy as np\n",
        "import matplotlib.pyplot as plt"
      ]
    },
    {
      "cell_type": "code",
      "source": [
        "x=np.arange(0,10,0.25)\n",
        "y=np.sin(x)"
      ],
      "metadata": {
        "id": "IQrTO0nNBA0J"
      },
      "execution_count": null,
      "outputs": []
    },
    {
      "cell_type": "code",
      "source": [
        "plt.plot(x,y,'ro-')\n",
        "plt.xlabel('x')\n",
        "plt.ylabel('sin(x)')\n",
        "plt.title('Sine function')\n",
        "plt.grid()\n",
        "plt.show()"
      ],
      "metadata": {
        "colab": {
          "base_uri": "https://localhost:8080/",
          "height": 295
        },
        "id": "R9Yx0grrBEuy",
        "outputId": "8fbc7e26-37d0-4941-b1c7-c846ce11bf0a"
      },
      "execution_count": null,
      "outputs": [
        {
          "output_type": "display_data",
          "data": {
            "text/plain": [
              "<Figure size 432x288 with 1 Axes>"
            ],
            "image/png": "[encoded data removed]"
          },
          "metadata": {
            "needs_background": "light"
          }
        }
      ]
    },
    {
      "cell_type": "code",
      "source": [
        "a=10\n",
        "b=20\n",
        "print('a={0},b={1}'.format(a,b))"
      ],
      "metadata": {
        "colab": {
          "base_uri": "https://localhost:8080/"
        },
        "id": "6mHG9xNIBOPA",
        "outputId": "e9c137fb-83fe-4dc2-d84a-36b67ffec6d1"
      },
      "execution_count": null,
      "outputs": [
        {
          "output_type": "stream",
          "name": "stdout",
          "text": [
            "a=10,b=20\n"
          ]
        }
      ]
    },
    {
      "cell_type": "markdown",
      "source": [
        "* 기본 자료형\n",
        "\n",
        "int: 정수\n",
        "float: 실수. double 자료형은 없다.\n",
        "str: 문자열\n",
        "complex: 복소수\n",
        "bool: True 혹은 False 두 값 중 하나를 취한다. bool에는 and, or, not 연산자 사용한다.\n",
        "\n",
        "* 자료형 확인 함수 : type() 함수\n"
      ],
      "metadata": {
        "id": "pUymKW7_MrDX"
      }
    },
    {
      "cell_type": "code",
      "source": [
        "x=10\n",
        "y=3.14\n",
        "c=2+3j\n",
        "s='Socrates Express'\n",
        "b=True"
      ],
      "metadata": {
        "id": "Zd61OhN1BVql"
      },
      "execution_count": null,
      "outputs": []
    },
    {
      "cell_type": "code",
      "source": [
        "print(\"1: \",x,y,s,c,'x*y= ',x*y,'\\n')\n",
        "print(\"2: \",\"type(x)= \",type(x),\"type(y)= \",type(y))\n",
        "print(\"3: \",\"type(s)= \",type(s),\"type(c)= \",type(c))\n",
        "print(\"4: \",\"type(b)= \",type(b),'\\n')"
      ],
      "metadata": {
        "colab": {
          "base_uri": "https://localhost:8080/"
        },
        "id": "Z_QBChFIDLvo",
        "outputId": "d9b57014-8bbc-4d38-e449-f05f9b7e46a8"
      },
      "execution_count": null,
      "outputs": [
        {
          "output_type": "stream",
          "name": "stdout",
          "text": [
            "1:  10 3.14 Socrates Express (2+3j) x*y=  31.400000000000002 \n",
            "\n",
            "2:  type(x)=  <class 'int'> type(y)=  <class 'float'>\n",
            "3:  type(s)=  <class 'str'> type(c)=  <class 'complex'>\n",
            "4:  type(b)=  <class 'bool'> \n",
            "\n"
          ]
        }
      ]
    },
    {
      "cell_type": "code",
      "source": [
        "hungry=True\n",
        "sleep=False "
      ],
      "metadata": {
        "id": "jaJlroJbHeW7"
      },
      "execution_count": null,
      "outputs": []
    },
    {
      "cell_type": "code",
      "source": [
        "print(\"5: \",'hungry= ',hungry,', sleep= ',sleep)"
      ],
      "metadata": {
        "colab": {
          "base_uri": "https://localhost:8080/"
        },
        "id": "V3Jc2-qxHiMR",
        "outputId": "97c0e66e-3962-4a3f-da01-3d886b70924f"
      },
      "execution_count": null,
      "outputs": [
        {
          "output_type": "stream",
          "name": "stdout",
          "text": [
            "5:  hungry=  True , sleep=  False\n"
          ]
        }
      ]
    },
    {
      "cell_type": "code",
      "source": [
        "hs_and=hungry and sleep\n",
        "s_not=not sleep"
      ],
      "metadata": {
        "id": "Ezf_tIIkHoZ1"
      },
      "execution_count": null,
      "outputs": []
    },
    {
      "cell_type": "code",
      "source": [
        "print(\"6: \",'hs_and=',hs_and, ' , s_not= ',s_not)"
      ],
      "metadata": {
        "colab": {
          "base_uri": "https://localhost:8080/"
        },
        "id": "2f7wM2rnHtMV",
        "outputId": "8b2f7baa-0fbf-40d4-f8f3-9e9112abdcd9"
      },
      "execution_count": null,
      "outputs": [
        {
          "output_type": "stream",
          "name": "stdout",
          "text": [
            "6:  hs_and= False  , s_not=  True\n"
          ]
        }
      ]
    },
    {
      "cell_type": "markdown",
      "source": [
        "### 변수\n",
        "* 자료의 값을 저장한다.\n",
        "* 자료형은 자동으로 지정된다."
      ],
      "metadata": {
        "id": "9ydgPEHtH2lw"
      }
    },
    {
      "cell_type": "markdown",
      "source": [
        "### List\n",
        "* 여러 개의 자료형이 다른 데이터를 List로 정리\n",
        "* Slicing: List 내에 있는 데이터들 중에 범위를 정해서 원하는 부분 List 얻기\n",
        "* len(): List의 원소의 개수를 반환\n",
        "* max(),min(): List 원소의 최대값, 최소값을 반환\n",
        "* +연산자: List들을 결합할 수 있다.\n",
        "* 하나의 List에 *를 사용해서 list를 반복해서 결합할 수 있다."
      ],
      "metadata": {
        "id": "7sx2aAv7-Dr2"
      }
    },
    {
      "cell_type": "code",
      "source": [
        "a=[1,2,\"Plato\",3.14,\"Last\"]\n",
        "print(\"1: a=\",a)\n",
        "a[1]=2.718\n",
        "print(\"2: a=\",a)\n",
        "print(\"3: a[1:3]=\",a[1:3])\n",
        "print(\"4: a[2:] = \",a[2:])\n",
        "print(\"5: a[:,-2]=\",a[: -2])"
      ],
      "metadata": {
        "id": "euy-VKfkHzN3",
        "colab": {
          "base_uri": "https://localhost:8080/"
        },
        "outputId": "f793714d-9d86-4fc1-96d2-51615dc19643"
      },
      "execution_count": null,
      "outputs": [
        {
          "output_type": "stream",
          "name": "stdout",
          "text": [
            "1: a= [1, 2, 'Plato', 3.14, 'Last']\n",
            "2: a= [1, 2.718, 'Plato', 3.14, 'Last']\n",
            "3: a[1:3]= [2.718, 'Plato']\n",
            "4: a[2:] =  ['Plato', 3.14, 'Last']\n",
            "5: a[:,-2]= [1, 2.718, 'Plato']\n"
          ]
        }
      ]
    },
    {
      "cell_type": "markdown",
      "source": [
        "* variable: 변수\n",
        "* struct: 구조체=멤버변수들\n",
        "* class: 클래스-멘버변수들과 멤버 함수들\n"
      ],
      "metadata": {
        "id": "5My_h_sfCvI7"
      }
    },
    {
      "cell_type": "markdown",
      "source": [
        "### List의 멤버 함수\n",
        "* append(): 리스트의 끝에 새 요소를 추가한다.\n",
        "* extend(): 기존 리스트에 다른 리스트를 이어 붙인다. + 연산자와 같은 기능을 한다.\n",
        "* insert(): 첨자로 명시한 리스트 내의 위치에 새 요소를 삽입한다. insert의 형식으로 사용한다.\n",
        "* remove(): 매개 변수로 입력한 데이터를 리스트에서 찾아 발견한 첫 번째 요소를 제거한다.\n",
        "* pop(): 리스트의 마지막 요소를 뽑아내어 제거한다. 한편, 마지막이 아닌 특정 요소를 제거하고 싶으면 pop() 메서드에 제거하고자 하는 요소의 인덱스를 입력한다.\n",
        "* index(): 리스트 내에서 매개변수로 입력한 데이터와 일치하는 첫 번째 요소의 첨자를 알려준다. 찾고자 하는 데이터와 일치하는 요소가 없으면 오류가 난다.\n",
        "* count(): 매개변수로 입력한 데이터와 일치하는 요소가 몇 개 존재하는지 센다.\n",
        "* sort(): 리스트 내의 요소를 정렬한다. 매개변수로 reverse=True를 입력하면 내림차순, 아무 것도 입력하지 않으면 오름차순으로 정렬한다. reverse=True와 같이 이름을 명시해 사용하는 매개변수를 일컬어 키워드 매개변수라 한다.\n",
        "* reverse(): 리스트 내 요소의 순서를 반대로 뒤집는다.\n"
      ],
      "metadata": {
        "id": "_iDYMK8fC3oD"
      }
    },
    {
      "cell_type": "code",
      "source": [
        "a=[2,4,5,9,8]\n",
        "b=[1,2,3,4,5]\n",
        "a[2]=10\n",
        "print(a) # List a의 2번째 항목을 10으로 변경 후 출력하기\n",
        "a.sort(reverse=True)\n",
        "print(a) #List a를 내림차순으로 정렬하고 출력하기\n",
        "c=a+b\n",
        "print(c) # 두 개 리스트(a,b)를 결합해서 리스트 c에 넣고 출력하기\n",
        "# 21812167 유다은"
      ],
      "metadata": {
        "colab": {
          "base_uri": "https://localhost:8080/"
        },
        "id": "nl_Zn9fp-vgc",
        "outputId": "9e2f7190-9216-4800-fd0a-c21a741f2e74"
      },
      "execution_count": null,
      "outputs": [
        {
          "output_type": "stream",
          "name": "stdout",
          "text": [
            "[2, 4, 10, 9, 8]\n",
            "[10, 9, 8, 4, 2]\n",
            "[10, 9, 8, 4, 2, 1, 2, 3, 4, 5]\n"
          ]
        }
      ]
    },
    {
      "cell_type": "markdown",
      "source": [
        "### Tuple\n",
        "괄호 사이에 원소를 배치한다.\n",
        "List와 유사하게 복수의 데이터를 저장하며, 원소들의 값은 변경이 불가능하다."
      ],
      "metadata": {
        "id": "FZgiI1_FNUaO"
      }
    },
    {
      "cell_type": "markdown",
      "source": [
        "### Dictionary\n",
        "* 탐색 속도가 빠르고 사용하기도 편하다.\n",
        "* 딕셔너리를 만들 때는 중괄호를 이용\n",
        "* 특정 슬롯에 새로운 키값을 입력하거나 딕셔너리 안에 있는 요소를 참조할 때는 리스트와 튜플에서처럼 대괄호를 이용한다."
      ],
      "metadata": {
        "id": "YxPuTZZrMJWR"
      }
    },
    {
      "cell_type": "markdown",
      "source": [
        "### 논리 연산자와 if 조건문\n",
        "* bool 자료형: True, False\n",
        "* 논리 연산자 not: 숫자 0은 False이고 그 외의 숫자들은 True"
      ],
      "metadata": {
        "id": "stR6LSPNQW1B"
      }
    },
    {
      "cell_type": "code",
      "source": [
        "# 다음 코드에서 출력은?\n",
        "a=[1,2,3]\n",
        "a.append(4)\n",
        "a\n",
        "# 리스트 a에 1,2,3을 넣고 append() 메서드를 이용해서 가장 끝에 4를 삽입해서 a를 출력한다."
      ],
      "metadata": {
        "colab": {
          "base_uri": "https://localhost:8080/"
        },
        "id": "D77njmd9QRiB",
        "outputId": "75d11e95-ff52-403f-ebdb-a6fc8b1a68d4"
      },
      "execution_count": null,
      "outputs": [
        {
          "output_type": "execute_result",
          "data": {
            "text/plain": [
              "[1, 2, 3, 4]"
            ]
          },
          "metadata": {},
          "execution_count": 13
        }
      ]
    },
    {
      "cell_type": "code",
      "source": [
        "# 다음 코드에서 출력은?\n",
        "a=[1,2,3,4,5]\n",
        "a.pop(2)\n",
        "a\n",
        "# 리스트 a에 1,2,3,4,5를 넣고 pop()를 이용해서 2번째 인덱스에 있던 3을 삭제시키고 a를 출력한다."
      ],
      "metadata": {
        "colab": {
          "base_uri": "https://localhost:8080/"
        },
        "id": "pbt_uMYnSLhP",
        "outputId": "01f73e8c-b016-465e-b5f2-0dad9b10d3d3"
      },
      "execution_count": null,
      "outputs": [
        {
          "output_type": "execute_result",
          "data": {
            "text/plain": [
              "[1, 2, 4, 5]"
            ]
          },
          "metadata": {},
          "execution_count": 14
        }
      ]
    },
    {
      "cell_type": "code",
      "source": [
        "# 올바른 튜플 선언이 아닌 것은?\n",
        "a=1,2,3,4,5\n",
        "a=1,\n",
        "a=(1,2,3,4,5)\n",
        "a=[1,2,3,4,5]\n",
        "# 4번째 a=[1,2,3,4,5] 는 리스트 선언 방법이기 때문에 4번째가 정답이다."
      ],
      "metadata": {
        "id": "gOqt8_q3SVO4"
      },
      "execution_count": null,
      "outputs": []
    },
    {
      "cell_type": "code",
      "source": [
        "# 다음 코드에서 잘못된 부분은?\n",
        "a=(1,2,3)\n",
        "a[0]=7\n",
        "print(a)\n",
        "# 튜플은 원소들의 값의 변경이 불가능하기 때문에 에러가 발생한다."
      ],
      "metadata": {
        "colab": {
          "base_uri": "https://localhost:8080/",
          "height": 245
        },
        "id": "FWLoPn3CSnJs",
        "outputId": "94b98aa2-0fde-4aa8-e419-ec9b203194d8"
      },
      "execution_count": null,
      "outputs": [
        {
          "output_type": "error",
          "ename": "TypeError",
          "evalue": "ignored",
          "traceback": [
            "\u001b[0;31m---------------------------------------------------------------------------\u001b[0m",
            "\u001b[0;31mTypeError\u001b[0m                                 Traceback (most recent call last)",
            "\u001b[0;32m<ipython-input-19-3b54d2ede9b3>\u001b[0m in \u001b[0;36m<module>\u001b[0;34m()\u001b[0m\n\u001b[1;32m      1\u001b[0m \u001b[0;31m# 다음 코드에서 잘못된 부분은?\u001b[0m\u001b[0;34m\u001b[0m\u001b[0;34m\u001b[0m\u001b[0;34m\u001b[0m\u001b[0m\n\u001b[1;32m      2\u001b[0m \u001b[0ma\u001b[0m\u001b[0;34m=\u001b[0m\u001b[0;34m(\u001b[0m\u001b[0;36m1\u001b[0m\u001b[0;34m,\u001b[0m\u001b[0;36m2\u001b[0m\u001b[0;34m,\u001b[0m\u001b[0;36m3\u001b[0m\u001b[0;34m)\u001b[0m\u001b[0;34m\u001b[0m\u001b[0;34m\u001b[0m\u001b[0m\n\u001b[0;32m----> 3\u001b[0;31m \u001b[0ma\u001b[0m\u001b[0;34m[\u001b[0m\u001b[0;36m0\u001b[0m\u001b[0;34m]\u001b[0m\u001b[0;34m=\u001b[0m\u001b[0;36m7\u001b[0m\u001b[0;34m\u001b[0m\u001b[0;34m\u001b[0m\u001b[0m\n\u001b[0m\u001b[1;32m      4\u001b[0m \u001b[0mprint\u001b[0m\u001b[0;34m(\u001b[0m\u001b[0ma\u001b[0m\u001b[0;34m)\u001b[0m\u001b[0;34m\u001b[0m\u001b[0;34m\u001b[0m\u001b[0m\n\u001b[1;32m      5\u001b[0m \u001b[0;31m# 튜플은 원소들의 값의 변경이 불가능하기 때문에 에러가 발생한다.\u001b[0m\u001b[0;34m\u001b[0m\u001b[0;34m\u001b[0m\u001b[0;34m\u001b[0m\u001b[0m\n",
            "\u001b[0;31mTypeError\u001b[0m: 'tuple' object does not support item assignment"
          ]
        }
      ]
    },
    {
      "cell_type": "code",
      "source": [
        "# 다음과 같은 결과를 갖는 dic 객체를 정의하는 코드를 2가지 방법으로 작성하라.\n",
        "# 첫 번째 방법\n",
        "dic={'사과':'apple','배':'pear'}\n",
        "print(dic)\n",
        "# 두 번째 방법\n",
        "dic1={}\n",
        "dic1['사과']='apple'\n",
        "dic1['배']='pear'\n",
        "print(dic1)"
      ],
      "metadata": {
        "colab": {
          "base_uri": "https://localhost:8080/"
        },
        "id": "UR12mvGCSvcN",
        "outputId": "c998e8ae-83ad-40f8-969c-87472a459c82"
      },
      "execution_count": null,
      "outputs": [
        {
          "output_type": "stream",
          "name": "stdout",
          "text": [
            "{'사과': 'apple', '배': 'pear'}\n",
            "{'사과': 'apple', '배': 'pear'}\n"
          ]
        }
      ]
    },
    {
      "cell_type": "code",
      "source": [
        "dic={'1st':10,'2nd':20,'3rd':30}\n",
        "for k,v in dic.items():\n",
        "  print(\"\\t{0}: {1}\".format(k,v))"
      ],
      "metadata": {
        "colab": {
          "base_uri": "https://localhost:8080/"
        },
        "id": "jif_CV2ZEVHi",
        "outputId": "4dfc64e7-f2af-480d-df56-091fb238671b"
      },
      "execution_count": null,
      "outputs": [
        {
          "output_type": "stream",
          "name": "stdout",
          "text": [
            "\t1st: 10\n",
            "\t2nd: 20\n",
            "\t3rd: 30\n"
          ]
        }
      ]
    },
    {
      "cell_type": "code",
      "source": [
        "limit=int(input())\n",
        "count=0\n",
        "while count<limit:\n",
        "  count+=1\n",
        "  print('{0}회 반복.'.format(count))"
      ],
      "metadata": {
        "colab": {
          "base_uri": "https://localhost:8080/"
        },
        "id": "ffKlLZ4WFDJ2",
        "outputId": "ce0cad8c-8f91-4beb-b006-f8a3ed045612"
      },
      "execution_count": null,
      "outputs": [
        {
          "output_type": "stream",
          "name": "stdout",
          "text": [
            "3\n",
            "1회 반복.\n",
            "2회 반복.\n",
            "3회 반복.\n"
          ]
        }
      ]
    },
    {
      "cell_type": "code",
      "source": [
        "a,b,c=map(int,input().split())\n",
        "min=0\n",
        "max=0\n",
        "mid=0\n",
        "\n",
        "if a<b and a<c and b<c:\n",
        "  min=a\n",
        "  max=c\n",
        "  mid=b\n",
        "elif a<b and a<c and c<b:\n",
        "  min=a\n",
        "  max=b\n",
        "  mid=c\n",
        "elif b<a and b<c and a<c:\n",
        "  min=b\n",
        "  max=c\n",
        "  mid=a\n",
        "elif b<a and b<c and c<a:\n",
        "  min=b\n",
        "  max=a\n",
        "  mid=b\n",
        "\n",
        "\n",
        "print(\"최솟값:\",min,\"최댓값:\",max,\"중간값:\",mid)"
      ],
      "metadata": {
        "id": "X5XHyQXNTKHd",
        "colab": {
          "base_uri": "https://localhost:8080/"
        },
        "outputId": "31ebcf3d-696c-424c-8cd4-eeda94f15208"
      },
      "execution_count": null,
      "outputs": [
        {
          "output_type": "stream",
          "name": "stdout",
          "text": [
            "1 2 3\n",
            "최솟값: 1 최댓값: 3 중간값: 2\n"
          ]
        }
      ]
    },
    {
      "cell_type": "code",
      "source": [
        "print(\"====for문 연습문제====21812167유다은\")\n",
        "\n",
        "for a in range(6):\n",
        "  if a==3:\n",
        "    continue\n",
        "  for b in range(6):\n",
        "    if b<=a:\n",
        "      print(\"*\", end='')\n",
        "  print()\n",
        "  "
      ],
      "metadata": {
        "colab": {
          "base_uri": "https://localhost:8080/"
        },
        "id": "mVLTI0aLFZtA",
        "outputId": "3660d7bf-5aaf-4f7f-c366-995cb13e690b"
      },
      "execution_count": null,
      "outputs": [
        {
          "output_type": "stream",
          "name": "stdout",
          "text": [
            "====for문 연습문제====21812167유다은\n",
            "*\n",
            "**\n",
            "***\n",
            "*****\n",
            "******\n"
          ]
        }
      ]
    },
    {
      "cell_type": "code",
      "source": [
        "def merge_string(*text_list):\n",
        "  print(\"\\targment type= \",type(text_list))\n",
        "  result=''\n",
        "  for s in text_list:\n",
        "    result=result+s\n",
        "  return result\n",
        "\n",
        "s1=merge_string('Father ','enters ','room, ')\n",
        "print(\"1: \" ,s1)"
      ],
      "metadata": {
        "colab": {
          "base_uri": "https://localhost:8080/"
        },
        "id": "0su6cBxaIClq",
        "outputId": "0a9bd946-cd73-40ce-f1e0-c788e7db208c"
      },
      "execution_count": null,
      "outputs": [
        {
          "output_type": "stream",
          "name": "stdout",
          "text": [
            "\targment type=  <class 'tuple'>\n",
            "1:  Father enters room, \n"
          ]
        }
      ]
    },
    {
      "cell_type": "code",
      "source": [
        "score_legend=['Name','Math','ENG','History','Total','Mean']\n",
        "score={'John':[70,80,90],'Tom':[90,95,98],'Mary':[95,85,99]}\n",
        "print(score_legend)\n",
        "\n",
        "for k,v in score.items():\n",
        "  s_sum=0\n",
        "  s_ave=0\n",
        "  for i in range(len(v)):\n",
        "    s_sum=s_sum+v[i]\n",
        "  s_ave=s_sum/len(v)\n",
        "  score[k].append(s_sum)\n",
        "  score[k].append(s_ave)\n",
        "for k,v in score.items():\n",
        "  print(k,v)\n",
        "\n",
        "print(\"21812167 유다은\")"
      ],
      "metadata": {
        "colab": {
          "base_uri": "https://localhost:8080/"
        },
        "id": "v9dmSnRBSjcK",
        "outputId": "6675cbb0-7138-4780-82ba-e605127524da"
      },
      "execution_count": null,
      "outputs": [
        {
          "output_type": "stream",
          "name": "stdout",
          "text": [
            "['Name', 'Math', 'ENG', 'History', 'Total', 'Mean']\n",
            "John [70, 80, 90, 240, 80.0]\n",
            "Tom [90, 95, 98, 283, 94.33333333333333]\n",
            "Mary [95, 85, 99, 279, 93.0]\n",
            "21812167 유다은\n"
          ]
        }
      ]
    },
    {
      "cell_type": "code",
      "source": [
        "x=10\n",
        "pi=3.14\n",
        "e=2.71\n",
        "print(x,pi,e)\n",
        "print(\"{0},{1:.2f},{2:.4f}\".format(x,pi,e))\n",
        "print(x,pi,end=' ')\n",
        "print(e)"
      ],
      "metadata": {
        "id": "z1nGfC_KV0WQ",
        "colab": {
          "base_uri": "https://localhost:8080/"
        },
        "outputId": "0b41dda4-2bd6-48fe-c1c7-e21d4e5cdc6c"
      },
      "execution_count": null,
      "outputs": [
        {
          "output_type": "stream",
          "name": "stdout",
          "text": [
            "10 3.14 2.71\n",
            "10,3.14,2.7100\n",
            "10 3.14 2.71\n"
          ]
        }
      ]
    },
    {
      "cell_type": "code",
      "source": [
        "a=input()\n",
        "print(a,type(a))"
      ],
      "metadata": {
        "colab": {
          "base_uri": "https://localhost:8080/"
        },
        "id": "8tfHPMqQO9pz",
        "outputId": "82b94dbd-ba8f-457d-e686-e71fcec3358b"
      },
      "execution_count": null,
      "outputs": [
        {
          "output_type": "stream",
          "name": "stdout",
          "text": [
            "3\n",
            "3 <class 'str'>\n"
          ]
        }
      ]
    },
    {
      "cell_type": "code",
      "source": [
        "a=[1,2,3]\n",
        "a.append(4)\n",
        "a"
      ],
      "metadata": {
        "colab": {
          "base_uri": "https://localhost:8080/"
        },
        "id": "l4fIP20qPwn-",
        "outputId": "97631bc8-3dff-4ba8-921f-27639c1b51c8"
      },
      "execution_count": null,
      "outputs": [
        {
          "output_type": "execute_result",
          "data": {
            "text/plain": [
              "[1, 2, 3, 4]"
            ]
          },
          "metadata": {},
          "execution_count": 8
        }
      ]
    },
    {
      "cell_type": "code",
      "source": [
        "a=[1,2,3]\n",
        "a.extend([4,5,6])\n",
        "a"
      ],
      "metadata": {
        "colab": {
          "base_uri": "https://localhost:8080/"
        },
        "id": "hptugBO0PzAx",
        "outputId": "b090485a-8e6a-4853-b97b-9c6974f4b652"
      },
      "execution_count": null,
      "outputs": [
        {
          "output_type": "execute_result",
          "data": {
            "text/plain": [
              "[1, 2, 3, 4, 5, 6]"
            ]
          },
          "metadata": {},
          "execution_count": 9
        }
      ]
    },
    {
      "cell_type": "code",
      "source": [
        "a=[2,4,5]\n",
        "a.insert(0,1)\n",
        "a.insert(2,3)\n",
        "a"
      ],
      "metadata": {
        "colab": {
          "base_uri": "https://localhost:8080/"
        },
        "id": "kOHG8slsPxmI",
        "outputId": "c87d9776-0f7e-4941-8ce2-41d7b8b00490"
      },
      "execution_count": null,
      "outputs": [
        {
          "output_type": "execute_result",
          "data": {
            "text/plain": [
              "[1, 2, 3, 4, 5]"
            ]
          },
          "metadata": {},
          "execution_count": 11
        }
      ]
    },
    {
      "cell_type": "code",
      "source": [
        "a=['A','B','C','D']\n",
        "a.remove('A')\n",
        "a"
      ],
      "metadata": {
        "colab": {
          "base_uri": "https://localhost:8080/"
        },
        "id": "lRsyGss7S8Sc",
        "outputId": "454cfa2d-d662-4529-abe7-a36fd4ddbb26"
      },
      "execution_count": null,
      "outputs": [
        {
          "output_type": "execute_result",
          "data": {
            "text/plain": [
              "['B', 'C', 'D']"
            ]
          },
          "metadata": {},
          "execution_count": 12
        }
      ]
    },
    {
      "cell_type": "code",
      "source": [
        "a=[1,2,3,4,5]\n",
        "a.pop()\n",
        "a\n",
        "a.pop()\n",
        "a\n",
        "a.pop(2)\n",
        "a"
      ],
      "metadata": {
        "colab": {
          "base_uri": "https://localhost:8080/"
        },
        "id": "VaiOSSpWTCx1",
        "outputId": "99cde231-f427-4df8-f218-30b82caaa9b1"
      },
      "execution_count": null,
      "outputs": [
        {
          "output_type": "execute_result",
          "data": {
            "text/plain": [
              "[1, 2]"
            ]
          },
          "metadata": {},
          "execution_count": 14
        }
      ]
    },
    {
      "cell_type": "code",
      "source": [
        "a=['a','b','c']\n",
        "a.index('b')"
      ],
      "metadata": {
        "colab": {
          "base_uri": "https://localhost:8080/"
        },
        "id": "3b6_UNJwTOJg",
        "outputId": "21c7da21-4205-43ef-db18-a6f03fc14695"
      },
      "execution_count": null,
      "outputs": [
        {
          "output_type": "execute_result",
          "data": {
            "text/plain": [
              "1"
            ]
          },
          "metadata": {},
          "execution_count": 15
        }
      ]
    },
    {
      "cell_type": "code",
      "source": [
        "a=[1,100,2,100,3,100]\n",
        "a.count(100)"
      ],
      "metadata": {
        "colab": {
          "base_uri": "https://localhost:8080/"
        },
        "id": "rvePJ8beTZR4",
        "outputId": "33150c47-2793-49e8-9bd6-4e8a7facb8e6"
      },
      "execution_count": null,
      "outputs": [
        {
          "output_type": "execute_result",
          "data": {
            "text/plain": [
              "3"
            ]
          },
          "metadata": {},
          "execution_count": 16
        }
      ]
    },
    {
      "cell_type": "code",
      "source": [
        "a=[3,4,5,1,2]\n",
        "a.sort()\n",
        "a\n",
        "a.sort(reverse=True)\n",
        "a"
      ],
      "metadata": {
        "colab": {
          "base_uri": "https://localhost:8080/"
        },
        "id": "3MGYQpRKTeUq",
        "outputId": "dd235407-9382-4a06-8508-c347d3e4ad19"
      },
      "execution_count": null,
      "outputs": [
        {
          "output_type": "execute_result",
          "data": {
            "text/plain": [
              "[5, 4, 3, 2, 1]"
            ]
          },
          "metadata": {},
          "execution_count": 19
        }
      ]
    },
    {
      "cell_type": "code",
      "source": [
        "a=[3,4,5,1,2]\n",
        "a.reverse()\n",
        "a"
      ],
      "metadata": {
        "colab": {
          "base_uri": "https://localhost:8080/"
        },
        "id": "gkZtubYOTk75",
        "outputId": "1bd6efd3-ad4b-44fc-e36d-be8764d825f8"
      },
      "execution_count": null,
      "outputs": [
        {
          "output_type": "execute_result",
          "data": {
            "text/plain": [
              "[2, 1, 5, 4, 3]"
            ]
          },
          "metadata": {},
          "execution_count": 20
        }
      ]
    },
    {
      "cell_type": "code",
      "source": [
        "a=[2,4,5,9,8]\n",
        "b=[1,2,3,4,5]\n",
        "a[2]=10\n",
        "a\n",
        "a.sort(reverse=True)\n",
        "a\n",
        "c=a+b\n",
        "c"
      ],
      "metadata": {
        "colab": {
          "base_uri": "https://localhost:8080/"
        },
        "id": "-lBX8AbpTprh",
        "outputId": "65e0f81c-94e9-4b3c-8acc-239c5e8ccb7d"
      },
      "execution_count": null,
      "outputs": [
        {
          "output_type": "execute_result",
          "data": {
            "text/plain": [
              "[10, 9, 8, 4, 2, 1, 2, 3, 4, 5]"
            ]
          },
          "metadata": {},
          "execution_count": 24
        }
      ]
    },
    {
      "cell_type": "code",
      "source": [
        "a=(1,2,\"hello\",4)\n",
        "b=3,4\n",
        "print(len(b))\n",
        "print(type(b))\n",
        "print(a[1:3])\n",
        "print(a+b)"
      ],
      "metadata": {
        "colab": {
          "base_uri": "https://localhost:8080/"
        },
        "id": "BGDhqH7UUHEa",
        "outputId": "106a61ac-703d-400f-d2e2-e0119be87ba4"
      },
      "execution_count": null,
      "outputs": [
        {
          "output_type": "stream",
          "name": "stdout",
          "text": [
            "2\n",
            "<class 'tuple'>\n",
            "(2, 'hello')\n",
            "(1, 2, 'hello', 4, 3, 4)\n"
          ]
        }
      ]
    },
    {
      "cell_type": "code",
      "source": [
        "#tuple packing\n",
        "a=1,2,3\n",
        "print(a)\n",
        "one,two,three=a\n",
        "print(one,two,three)\n",
        "print(type(one))\n",
        "#tuple unpacking\n",
        "city,latitude,longitude='Seoul',37,126\n",
        "print(city,latitude,longitude)"
      ],
      "metadata": {
        "colab": {
          "base_uri": "https://localhost:8080/"
        },
        "id": "LE4RjVqjUZA_",
        "outputId": "6c02c83c-18de-48f0-fa9d-48859c389b55"
      },
      "execution_count": null,
      "outputs": [
        {
          "output_type": "stream",
          "name": "stdout",
          "text": [
            "(1, 2, 3)\n",
            "1 2 3\n",
            "<class 'int'>\n",
            "Seoul 37 126\n"
          ]
        }
      ]
    },
    {
      "cell_type": "code",
      "source": [
        "man={'height':175,'weight':68}\n",
        "print(man['height'],man['weight'])\n",
        "man['height']=180\n",
        "print(man)"
      ],
      "metadata": {
        "colab": {
          "base_uri": "https://localhost:8080/"
        },
        "id": "KVeoFMOeUxrB",
        "outputId": "a78fa749-a2f2-4a47-9bfc-6c96073b4e4b"
      },
      "execution_count": null,
      "outputs": [
        {
          "output_type": "stream",
          "name": "stdout",
          "text": [
            "175 68\n",
            "{'height': 180, 'weight': 68}\n"
          ]
        }
      ]
    },
    {
      "cell_type": "code",
      "source": [
        "dic={'one':0,'two':2}\n",
        "dic['one']=1\n",
        "print(dic)\n",
        "dic['three']=3\n",
        "print(dic)\n",
        "del(dic['one'])\n",
        "print(dic)\n",
        "dic1={1:10,2:20}\n",
        "dic2={1:100,3:300}\n",
        "print(dic1[1])\n",
        "dic1.update(dic2)\n",
        "print(dic1)\n",
        "\n",
        "print(dic.keys())\n",
        "print(dic.values())\n",
        "print(dic.items())\n",
        "print('one' in dic.keys())\n",
        "print('two' in dic.keys())\n",
        "print(0 in dic.values())\n",
        "print(2 in dic.values())\n",
        "dic.pop('two')\n",
        "print(dic)\n",
        "dic.clear()\n",
        "print(dic)"
      ],
      "metadata": {
        "colab": {
          "base_uri": "https://localhost:8080/"
        },
        "id": "1k2lGff2WTmG",
        "outputId": "2bc8774f-6596-4fa3-b8d9-111830a4de27"
      },
      "execution_count": null,
      "outputs": [
        {
          "output_type": "stream",
          "name": "stdout",
          "text": [
            "{'one': 1, 'two': 2}\n",
            "{'one': 1, 'two': 2, 'three': 3}\n",
            "{'two': 2, 'three': 3}\n",
            "10\n",
            "{1: 100, 2: 20, 3: 300}\n",
            "dict_keys(['two', 'three'])\n",
            "dict_values([2, 3])\n",
            "dict_items([('two', 2), ('three', 3)])\n",
            "False\n",
            "True\n",
            "False\n",
            "True\n",
            "{'three': 3}\n",
            "{}\n"
          ]
        }
      ]
    },
    {
      "cell_type": "code",
      "source": [
        "dic={'사과':'apple','배':'pear'}\n",
        "print(dic)\n",
        "dic1={}\n",
        "dic1['사과']='apple'\n",
        "dic1['배']='pear'\n",
        "print(dic1)"
      ],
      "metadata": {
        "colab": {
          "base_uri": "https://localhost:8080/"
        },
        "id": "farGJYvpXqPi",
        "outputId": "b24c96d5-6a4d-4732-8bc3-8dbc228a7e8e"
      },
      "execution_count": null,
      "outputs": [
        {
          "output_type": "stream",
          "name": "stdout",
          "text": [
            "{'사과': 'apple', '배': 'pear'}\n",
            "{'사과': 'apple', '배': 'pear'}\n"
          ]
        }
      ]
    },
    {
      "cell_type": "code",
      "source": [
        "class CAIGrade:\n",
        "  #Contructor: 이름, 과제, 퀴즈, 시험성적의 네개의 값을 입력받음\n",
        "  def __init__(self,name,homework,quiz,exam):\n",
        "    #Private member variables\n",
        "    self.__name=name\n",
        "    self.__homework=homework\n",
        "    self.__quiz=quiz\n",
        "    self.__exam=exam\n",
        "\n",
        "# member function: Private ComputeScore()\n",
        "  def __ComputeScore(self):\n",
        "    score=0.2*self.__homework+0.2*self.__quiz+0.6*self.__exam\n",
        "    return score\n",
        "\n",
        "# member function: Public setScore(homework,quiz,exam)\n",
        "  def setScore(self,homework,quiz,exam):\n",
        "    self.__homework=homework\n",
        "    self.__quiz=quiz\n",
        "    self.__exam=exam\n",
        "    \n",
        "# member function: __call__() Name-homework-quiz-exam-score 순서로 출력\n",
        "  def __call__(self):\n",
        "    print(\"(이름: {0}, homework: {1} 점,quiz: {2}점 , exam: {3}점 ,score: {4}점)\".format(self.__name,self.__homework,self.__quiz,self.__exam,self.__ComputeScore()))\n",
        "\n",
        "CAI1=CAIGrade(\"Plato K\",100,60,60)\n",
        "CAI1()\n",
        "CAI1.setScore(100,60,80)\n",
        "CAI1()\n",
        "#21812167 유다은 \n",
        "    "
      ],
      "metadata": {
        "colab": {
          "base_uri": "https://localhost:8080/"
        },
        "id": "XjvnuABVC3Dz",
        "outputId": "be81a1ac-6f1e-4145-e53b-290d77fc3843"
      },
      "execution_count": null,
      "outputs": [
        {
          "output_type": "stream",
          "name": "stdout",
          "text": [
            "(이름: Plato K, homework: 100 점,quiz: 60점 , exam: 60점 ,score: 68.0점)\n",
            "(이름: Plato K, homework: 100 점,quiz: 60점 , exam: 80점 ,score: 80.0점)\n"
          ]
        }
      ]
    },
    {
      "cell_type": "code",
      "source": [
        "pip install python-twitter"
      ],
      "metadata": {
        "colab": {
          "base_uri": "https://localhost:8080/"
        },
        "id": "OuKqTYWw07J_",
        "outputId": "81eaeaf1-9e0e-4298-a48e-765e0b1be8ba"
      },
      "execution_count": null,
      "outputs": [
        {
          "output_type": "stream",
          "name": "stdout",
          "text": [
            "Collecting python-twitter\n",
            "  Downloading python_twitter-3.5-py2.py3-none-any.whl (67 kB)\n",
            "\u001b[?25l\r\u001b[K     |████▉                           | 10 kB 20.0 MB/s eta 0:00:01\r\u001b[K     |█████████▊                      | 20 kB 8.2 MB/s eta 0:00:01\r\u001b[K     |██████████████▋                 | 30 kB 6.8 MB/s eta 0:00:01\r\u001b[K     |███████████████████▌            | 40 kB 6.5 MB/s eta 0:00:01\r\u001b[K     |████████████████████████▎       | 51 kB 4.1 MB/s eta 0:00:01\r\u001b[K     |█████████████████████████████▏  | 61 kB 4.8 MB/s eta 0:00:01\r\u001b[K     |████████████████████████████████| 67 kB 1.8 MB/s \n",
            "\u001b[?25hRequirement already satisfied: requests-oauthlib in /usr/local/lib/python3.7/dist-packages (from python-twitter) (1.3.1)\n",
            "Requirement already satisfied: requests in /usr/local/lib/python3.7/dist-packages (from python-twitter) (2.23.0)\n",
            "Requirement already satisfied: future in /usr/local/lib/python3.7/dist-packages (from python-twitter) (0.16.0)\n",
            "Requirement already satisfied: idna<3,>=2.5 in /usr/local/lib/python3.7/dist-packages (from requests->python-twitter) (2.10)\n",
            "Requirement already satisfied: urllib3!=1.25.0,!=1.25.1,<1.26,>=1.21.1 in /usr/local/lib/python3.7/dist-packages (from requests->python-twitter) (1.24.3)\n",
            "Requirement already satisfied: chardet<4,>=3.0.2 in /usr/local/lib/python3.7/dist-packages (from requests->python-twitter) (3.0.4)\n",
            "Requirement already satisfied: certifi>=2017.4.17 in /usr/local/lib/python3.7/dist-packages (from requests->python-twitter) (2021.10.8)\n",
            "Requirement already satisfied: oauthlib>=3.0.0 in /usr/local/lib/python3.7/dist-packages (from requests-oauthlib->python-twitter) (3.2.0)\n",
            "Installing collected packages: python-twitter\n",
            "Successfully installed python-twitter-3.5\n"
          ]
        }
      ]
    },
    {
      "cell_type": "code",
      "source": [
        "twitter_consumer_key = \"HCBdOQrjUXRZelrQ3v3udjcMj\"\n",
        "twitter_consumer_secret = \"rt8EZozGSw6IiPOVlzpLL5L31DbUtwOor20RXgVFIxLwE6sakr\"  \n",
        "twitter_access_token = \"1507206459238793217-bytI1UKfDLUEMs9BZzBiT5EqrFv6Cj\"\n",
        "twitter_access_secret = \"izNzPuklP9HOZml0mIpNiw7rwOglXiTcX95UPsZEIQf3V\"\n",
        "import twitter\n",
        "twitter_api = twitter.Api(consumer_key=twitter_consumer_key,\n",
        "                          consumer_secret=twitter_consumer_secret, \n",
        "                          access_token_key=twitter_access_token, \n",
        "                          access_token_secret=twitter_access_secret)"
      ],
      "metadata": {
        "id": "3r4tHXeF1Apx"
      },
      "execution_count": null,
      "outputs": []
    },
    {
      "cell_type": "code",
      "source": [
        "cd sample_data"
      ],
      "metadata": {
        "colab": {
          "base_uri": "https://localhost:8080/"
        },
        "id": "HsWhclaOOY-_",
        "outputId": "e4a68ac2-dbe4-4c7b-ca18-e86b2813d715"
      },
      "execution_count": null,
      "outputs": [
        {
          "output_type": "stream",
          "name": "stdout",
          "text": [
            "/content/sample_data\n"
          ]
        }
      ]
    },
    {
      "cell_type": "code",
      "source": [
        "import numpy as np\n",
        "\n",
        "x=np.array([[1.4],[-1]])\n",
        "b1=np.array([[1.5],[-0.5]])\n",
        "w1=np.array([[1.2,2.3],[1.5,4.2]])\n",
        "w2=np.array([[1.2,2.3],[1.5,4.2]])\n",
        "b2=np.array([[1.5],[-0.5]])\n",
        "\n",
        "y1=np.dot(w1,x)+b1\n",
        "o1=np.array([np.maximum(0,y1[0]),np.maximum(0,y1[1])])\n",
        "\n",
        "print(y1.shape)\n",
        "y2=w2.dot(y1)+b2\n",
        "print(y2.shape)\n",
        "o2=np.array([1/(1+np.exp(-y2[0])),1/(1+np.exp(-y2[1]))])\n",
        "print(\"y1=\\n\",y1)\n",
        "print(\"o1=\\n\",o1)\n",
        "print(\"y2=\\n\",y2)\n",
        "print(\"o2=\\n\",o2)\n",
        "\n",
        "#21812167 유다은"
      ],
      "metadata": {
        "id": "R9vSnSRDOjqy",
        "colab": {
          "base_uri": "https://localhost:8080/"
        },
        "outputId": "b9341f1c-c7ac-422f-b36c-250e6ede4e89"
      },
      "execution_count": null,
      "outputs": [
        {
          "output_type": "stream",
          "name": "stdout",
          "text": [
            "(2, 1)\n",
            "(2, 1)\n",
            "y1=\n",
            " [[ 0.88]\n",
            " [-2.6 ]]\n",
            "o1=\n",
            " [[0.88]\n",
            " [0.  ]]\n",
            "y2=\n",
            " [[ -3.424]\n",
            " [-10.1  ]]\n",
            "o2=\n",
            " [[3.15537666e-02]\n",
            " [4.10778678e-05]]\n"
          ]
        }
      ]
    },
    {
      "cell_type": "code",
      "source": [
        "import numpy as np\n",
        "import matplotlib.pyplot as plt\n",
        "from matplotlib.image import imread\n",
        "\n",
        "img=imread('cat.jpg')\n",
        "plt.subplot(2,1,1)\n",
        "plt.imshow(img)\n",
        "plt.subplot(2,1,2)\n",
        "plt.imshow(img)\n",
        "plt.axis('off')\n",
        "plt.show()"
      ],
      "metadata": {
        "colab": {
          "base_uri": "https://localhost:8080/",
          "height": 252
        },
        "id": "Kd9lIJme6uov",
        "outputId": "76c13ab3-6249-4307-c7e8-ded30e982649"
      },
      "execution_count": null,
      "outputs": [
        {
          "output_type": "display_data",
          "data": {
            "text/plain": [
              "<Figure size 432x288 with 2 Axes>"
            ],
            "image/png": "[encoded data removed]"
          },
          "metadata": {
            "needs_background": "light"
          }
        }
      ]
    },
    {
      "cell_type": "code",
      "source": [
        "ls"
      ],
      "metadata": {
        "colab": {
          "base_uri": "https://localhost:8080/"
        },
        "id": "LXQ5aT4B--Xw",
        "outputId": "45f336f7-6675-45bd-b55d-2fb87a709d57"
      },
      "execution_count": null,
      "outputs": [
        {
          "output_type": "stream",
          "name": "stdout",
          "text": [
            "\u001b[0m\u001b[01;34msample_data\u001b[0m/\n"
          ]
        }
      ]
    },
    {
      "cell_type": "code",
      "source": [
        "import numpy as np\n",
        "import matplotlib.pyplot as plt\n",
        "import cv2\n",
        "from google.colab.patches import cv2_imshow\n",
        "\n",
        "def sigmoid_func(x):\n",
        "  return 1/(1+np.exp(-x))\n",
        "\n",
        "def Relu(x):\n",
        "  return np.maximum(0,x)\n",
        "\n",
        "x=np.arange(-2,3,0.1)\n",
        "y_sigmoid=sigmoid_func(x)\n",
        "plt.subplot(2,2,1)\n",
        "\n",
        "plt.plot(x,y_sigmoid)\n",
        "plt.title('Sigmoid')\n",
        "\n",
        "y_relu=Relu(x)\n",
        "\n",
        "plt.subplot(2,2,2)\n",
        "plt.plot(x,y_sigmoid,label='sigmoid')\n",
        "plt.plot(x,y_relu,label='relu')\n",
        "plt.title('Relu & sigmoid')\n",
        "plt.legend()\n",
        "\n",
        "img_from_opencv=cv2.imread(\"cat.jpg\")\n",
        "cv2.waitKey(0)\n",
        "cv2.destroyAllWindows()\n",
        "b,g,r=cv2.split(img_from_opencv)\n",
        "image_python=cv2.merge([r,g,b])\n",
        "plt.subplot(2,2,3)\n",
        "plt.imshow(image_python)\n",
        "\n",
        "img_from_opencv=cv2.imread(\"cat.jpg\") \n",
        "plt.subplot(2,2,4)\n",
        "plt.imshow(image_python)\n",
        "#21812167 유다은"
      ],
      "metadata": {
        "id": "hHQaBT2yj1dv",
        "colab": {
          "base_uri": "https://localhost:8080/",
          "height": 289
        },
        "outputId": "f83749ea-ad4c-46b0-86ea-ce35e484d635"
      },
      "execution_count": null,
      "outputs": [
        {
          "output_type": "execute_result",
          "data": {
            "text/plain": [
              "<matplotlib.image.AxesImage at 0x7f19b84c7cd0>"
            ]
          },
          "metadata": {},
          "execution_count": 119
        },
        {
          "output_type": "display_data",
          "data": {
            "text/plain": [
              "<Figure size 432x288 with 4 Axes>"
            ],
            "image/png": "[encoded data removed]"
          },
          "metadata": {
            "needs_background": "light"
          }
        }
      ]
    },
    {
      "cell_type": "markdown",
      "source": [
        ""
      ],
      "metadata": {
        "id": "s23nhPpE2p4v"
      }
    },
    {
      "cell_type": "code",
      "source": [
        "# 21812167 유다은\n",
        "array=[]\n",
        "for i in range(10):\n",
        "  array.append(int(input()))\n",
        "\n",
        "for i in range(len(array)):\n",
        "  for j in range(i+1, len(array)):\n",
        "    if array[i]>array[j]:\n",
        "      array[i],array[j]=array[j],array[i]\n",
        "\n",
        "for a in array:\n",
        "  print(a,end=' ')\n"
      ],
      "metadata": {
        "colab": {
          "base_uri": "https://localhost:8080/"
        },
        "id": "iDatVoisAeEl",
        "outputId": "c3622f70-92bd-4bca-9e0d-e84cf322d9b9"
      },
      "execution_count": null,
      "outputs": [
        {
          "output_type": "stream",
          "name": "stdout",
          "text": [
            "1\n",
            "10\n",
            "2\n",
            "9\n",
            "3\n",
            "8\n",
            "4\n",
            "7\n",
            "5\n",
            "6\n",
            "1 2 3 4 5 6 7 8 9 10 "
          ]
        }
      ]
    },
    {
      "cell_type": "code",
      "source": [
        "import pandas as pd\n",
        "from sklearn.datasets import load_iris\n",
        "import numpy as np\n",
        "\n",
        "iris = load_iris()\n",
        "df = pd.DataFrame(data=np.c_[iris['data'],iris['target']],columns=iris['feature_names']+['target'])\n",
        "df['target']=df['target'].map({0:\"setosa\",1:\"versicolor\",2:\"virginica\"})\n",
        "df.head(3)\n",
        "#21812167 유다은"
      ],
      "metadata": {
        "colab": {
          "base_uri": "https://localhost:8080/",
          "height": 143
        },
        "id": "o-hHbyEyVa1d",
        "outputId": "da88eb23-645f-455b-8cfe-99311027527d"
      },
      "execution_count": 27,
      "outputs": [
        {
          "output_type": "execute_result",
          "data": {
            "text/plain": [
              "   sepal length (cm)  sepal width (cm)  petal length (cm)  petal width (cm)  \\\n",
              "0                5.1               3.5                1.4               0.2   \n",
              "1                4.9               3.0                1.4               0.2   \n",
              "2                4.7               3.2                1.3               0.2   \n",
              "\n",
              "   target  \n",
              "0  setosa  \n",
              "1  setosa  \n",
              "2  setosa  "
            ],
            "text/html": [
              "\n",
              "  <div id=\"df-52038afe-ea15-4935-9f9b-e592e5d51ae0\">\n",
              "    <div class=\"colab-df-container\">\n",
              "      <div>\n",
              "<style scoped>\n",
              "    .dataframe tbody tr th:only-of-type {\n",
              "        vertical-align: middle;\n",
              "    }\n",
              "\n",
              "    .dataframe tbody tr th {\n",
              "        vertical-align: top;\n",
              "    }\n",
              "\n",
              "    .dataframe thead th {\n",
              "        text-align: right;\n",
              "    }\n",
              "</style>\n",
              "<table border=\"1\" class=\"dataframe\">\n",
              "  <thead>\n",
              "    <tr style=\"text-align: right;\">\n",
              "      <th></th>\n",
              "      <th>sepal length (cm)</th>\n",
              "      <th>sepal width (cm)</th>\n",
              "      <th>petal length (cm)</th>\n",
              "      <th>petal width (cm)</th>\n",
              "      <th>target</th>\n",
              "    </tr>\n",
              "  </thead>\n",
              "  <tbody>\n",
              "    <tr>\n",
              "      <th>0</th>\n",
              "      <td>5.1</td>\n",
              "      <td>3.5</td>\n",
              "      <td>1.4</td>\n",
              "      <td>0.2</td>\n",
              "      <td>setosa</td>\n",
              "    </tr>\n",
              "    <tr>\n",
              "      <th>1</th>\n",
              "      <td>4.9</td>\n",
              "      <td>3.0</td>\n",
              "      <td>1.4</td>\n",
              "      <td>0.2</td>\n",
              "      <td>setosa</td>\n",
              "    </tr>\n",
              "    <tr>\n",
              "      <th>2</th>\n",
              "      <td>4.7</td>\n",
              "      <td>3.2</td>\n",
              "      <td>1.3</td>\n",
              "      <td>0.2</td>\n",
              "      <td>setosa</td>\n",
              "    </tr>\n",
              "  </tbody>\n",
              "</table>\n",
              "</div>\n",
              "      <button class=\"colab-df-convert\" onclick=\"convertToInteractive('df-52038afe-ea15-4935-9f9b-e592e5d51ae0')\"\n",
              "              title=\"Convert this dataframe to an interactive table.\"\n",
              "              style=\"display:none;\">\n",
              "        \n",
              "  <svg xmlns=\"http://www.w3.org/2000/svg\" height=\"24px\"viewBox=\"0 0 24 24\"\n",
              "       width=\"24px\">\n",
              "    <path d=\"M0 0h24v24H0V0z\" fill=\"none\"/>\n",
              "    <path d=\"M18.56 5.44l.94 2.06.94-2.06 2.06-.94-2.06-.94-.94-2.06-.94 2.06-2.06.94zm-11 1L8.5 8.5l.94-2.06 2.06-.94-2.06-.94L8.5 2.5l-.94 2.06-2.06.94zm10 10l.94 2.06.94-2.06 2.06-.94-2.06-.94-.94-2.06-.94 2.06-2.06.94z\"/><path d=\"M17.41 7.96l-1.37-1.37c-.4-.4-.92-.59-1.43-.59-.52 0-1.04.2-1.43.59L10.3 9.45l-7.72 7.72c-.78.78-.78 2.05 0 2.83L4 21.41c.39.39.9.59 1.41.59.51 0 1.02-.2 1.41-.59l7.78-7.78 2.81-2.81c.8-.78.8-2.07 0-2.86zM5.41 20L4 18.59l7.72-7.72 1.47 1.35L5.41 20z\"/>\n",
              "  </svg>\n",
              "      </button>\n",
              "      \n",
              "  <style>\n",
              "    .colab-df-container {\n",
              "      display:flex;\n",
              "      flex-wrap:wrap;\n",
              "      gap: 12px;\n",
              "    }\n",
              "\n",
              "    .colab-df-convert {\n",
              "      background-color: #E8F0FE;\n",
              "      border: none;\n",
              "      border-radius: 50%;\n",
              "      cursor: pointer;\n",
              "      display: none;\n",
              "      fill: #1967D2;\n",
              "      height: 32px;\n",
              "      padding: 0 0 0 0;\n",
              "      width: 32px;\n",
              "    }\n",
              "\n",
              "    .colab-df-convert:hover {\n",
              "      background-color: #E2EBFA;\n",
              "      box-shadow: 0px 1px 2px rgba(60, 64, 67, 0.3), 0px 1px 3px 1px rgba(60, 64, 67, 0.15);\n",
              "      fill: #174EA6;\n",
              "    }\n",
              "\n",
              "    [theme=dark] .colab-df-convert {\n",
              "      background-color: #3B4455;\n",
              "      fill: #D2E3FC;\n",
              "    }\n",
              "\n",
              "    [theme=dark] .colab-df-convert:hover {\n",
              "      background-color: #434B5C;\n",
              "      box-shadow: 0px 1px 3px 1px rgba(0, 0, 0, 0.15);\n",
              "      filter: drop-shadow(0px 1px 2px rgba(0, 0, 0, 0.3));\n",
              "      fill: #FFFFFF;\n",
              "    }\n",
              "  </style>\n",
              "\n",
              "      <script>\n",
              "        const buttonEl =\n",
              "          document.querySelector('#df-52038afe-ea15-4935-9f9b-e592e5d51ae0 button.colab-df-convert');\n",
              "        buttonEl.style.display =\n",
              "          google.colab.kernel.accessAllowed ? 'block' : 'none';\n",
              "\n",
              "        async function convertToInteractive(key) {\n",
              "          const element = document.querySelector('#df-52038afe-ea15-4935-9f9b-e592e5d51ae0');\n",
              "          const dataTable =\n",
              "            await google.colab.kernel.invokeFunction('convertToInteractive',\n",
              "                                                     [key], {});\n",
              "          if (!dataTable) return;\n",
              "\n",
              "          const docLinkHtml = 'Like what you see? Visit the ' +\n",
              "            '<a target=\"_blank\" href=https://colab.research.google.com/notebooks/data_table.ipynb>data table notebook</a>'\n",
              "            + ' to learn more about interactive tables.';\n",
              "          element.innerHTML = '';\n",
              "          dataTable['output_type'] = 'display_data';\n",
              "          await google.colab.output.renderOutput(dataTable, element);\n",
              "          const docLink = document.createElement('div');\n",
              "          docLink.innerHTML = docLinkHtml;\n",
              "          element.appendChild(docLink);\n",
              "        }\n",
              "      </script>\n",
              "    </div>\n",
              "  </div>\n",
              "  "
            ]
          },
          "metadata": {},
          "execution_count": 27
        }
      ]
    },
    {
      "cell_type": "code",
      "source": [
        "df.tail(3)"
      ],
      "metadata": {
        "colab": {
          "base_uri": "https://localhost:8080/",
          "height": 143
        },
        "id": "vQOALzA-boag",
        "outputId": "f27d033b-a073-4d67-974a-d815370fe0e5"
      },
      "execution_count": 28,
      "outputs": [
        {
          "output_type": "execute_result",
          "data": {
            "text/plain": [
              "     sepal length (cm)  sepal width (cm)  petal length (cm)  petal width (cm)  \\\n",
              "147                6.5               3.0                5.2               2.0   \n",
              "148                6.2               3.4                5.4               2.3   \n",
              "149                5.9               3.0                5.1               1.8   \n",
              "\n",
              "        target  \n",
              "147  virginica  \n",
              "148  virginica  \n",
              "149  virginica  "
            ],
            "text/html": [
              "\n",
              "  <div id=\"df-adfc4734-6cd2-4114-a40b-29e85eb43d54\">\n",
              "    <div class=\"colab-df-container\">\n",
              "      <div>\n",
              "<style scoped>\n",
              "    .dataframe tbody tr th:only-of-type {\n",
              "        vertical-align: middle;\n",
              "    }\n",
              "\n",
              "    .dataframe tbody tr th {\n",
              "        vertical-align: top;\n",
              "    }\n",
              "\n",
              "    .dataframe thead th {\n",
              "        text-align: right;\n",
              "    }\n",
              "</style>\n",
              "<table border=\"1\" class=\"dataframe\">\n",
              "  <thead>\n",
              "    <tr style=\"text-align: right;\">\n",
              "      <th></th>\n",
              "      <th>sepal length (cm)</th>\n",
              "      <th>sepal width (cm)</th>\n",
              "      <th>petal length (cm)</th>\n",
              "      <th>petal width (cm)</th>\n",
              "      <th>target</th>\n",
              "    </tr>\n",
              "  </thead>\n",
              "  <tbody>\n",
              "    <tr>\n",
              "      <th>147</th>\n",
              "      <td>6.5</td>\n",
              "      <td>3.0</td>\n",
              "      <td>5.2</td>\n",
              "      <td>2.0</td>\n",
              "      <td>virginica</td>\n",
              "    </tr>\n",
              "    <tr>\n",
              "      <th>148</th>\n",
              "      <td>6.2</td>\n",
              "      <td>3.4</td>\n",
              "      <td>5.4</td>\n",
              "      <td>2.3</td>\n",
              "      <td>virginica</td>\n",
              "    </tr>\n",
              "    <tr>\n",
              "      <th>149</th>\n",
              "      <td>5.9</td>\n",
              "      <td>3.0</td>\n",
              "      <td>5.1</td>\n",
              "      <td>1.8</td>\n",
              "      <td>virginica</td>\n",
              "    </tr>\n",
              "  </tbody>\n",
              "</table>\n",
              "</div>\n",
              "      <button class=\"colab-df-convert\" onclick=\"convertToInteractive('df-adfc4734-6cd2-4114-a40b-29e85eb43d54')\"\n",
              "              title=\"Convert this dataframe to an interactive table.\"\n",
              "              style=\"display:none;\">\n",
              "        \n",
              "  <svg xmlns=\"http://www.w3.org/2000/svg\" height=\"24px\"viewBox=\"0 0 24 24\"\n",
              "       width=\"24px\">\n",
              "    <path d=\"M0 0h24v24H0V0z\" fill=\"none\"/>\n",
              "    <path d=\"M18.56 5.44l.94 2.06.94-2.06 2.06-.94-2.06-.94-.94-2.06-.94 2.06-2.06.94zm-11 1L8.5 8.5l.94-2.06 2.06-.94-2.06-.94L8.5 2.5l-.94 2.06-2.06.94zm10 10l.94 2.06.94-2.06 2.06-.94-2.06-.94-.94-2.06-.94 2.06-2.06.94z\"/><path d=\"M17.41 7.96l-1.37-1.37c-.4-.4-.92-.59-1.43-.59-.52 0-1.04.2-1.43.59L10.3 9.45l-7.72 7.72c-.78.78-.78 2.05 0 2.83L4 21.41c.39.39.9.59 1.41.59.51 0 1.02-.2 1.41-.59l7.78-7.78 2.81-2.81c.8-.78.8-2.07 0-2.86zM5.41 20L4 18.59l7.72-7.72 1.47 1.35L5.41 20z\"/>\n",
              "  </svg>\n",
              "      </button>\n",
              "      \n",
              "  <style>\n",
              "    .colab-df-container {\n",
              "      display:flex;\n",
              "      flex-wrap:wrap;\n",
              "      gap: 12px;\n",
              "    }\n",
              "\n",
              "    .colab-df-convert {\n",
              "      background-color: #E8F0FE;\n",
              "      border: none;\n",
              "      border-radius: 50%;\n",
              "      cursor: pointer;\n",
              "      display: none;\n",
              "      fill: #1967D2;\n",
              "      height: 32px;\n",
              "      padding: 0 0 0 0;\n",
              "      width: 32px;\n",
              "    }\n",
              "\n",
              "    .colab-df-convert:hover {\n",
              "      background-color: #E2EBFA;\n",
              "      box-shadow: 0px 1px 2px rgba(60, 64, 67, 0.3), 0px 1px 3px 1px rgba(60, 64, 67, 0.15);\n",
              "      fill: #174EA6;\n",
              "    }\n",
              "\n",
              "    [theme=dark] .colab-df-convert {\n",
              "      background-color: #3B4455;\n",
              "      fill: #D2E3FC;\n",
              "    }\n",
              "\n",
              "    [theme=dark] .colab-df-convert:hover {\n",
              "      background-color: #434B5C;\n",
              "      box-shadow: 0px 1px 3px 1px rgba(0, 0, 0, 0.15);\n",
              "      filter: drop-shadow(0px 1px 2px rgba(0, 0, 0, 0.3));\n",
              "      fill: #FFFFFF;\n",
              "    }\n",
              "  </style>\n",
              "\n",
              "      <script>\n",
              "        const buttonEl =\n",
              "          document.querySelector('#df-adfc4734-6cd2-4114-a40b-29e85eb43d54 button.colab-df-convert');\n",
              "        buttonEl.style.display =\n",
              "          google.colab.kernel.accessAllowed ? 'block' : 'none';\n",
              "\n",
              "        async function convertToInteractive(key) {\n",
              "          const element = document.querySelector('#df-adfc4734-6cd2-4114-a40b-29e85eb43d54');\n",
              "          const dataTable =\n",
              "            await google.colab.kernel.invokeFunction('convertToInteractive',\n",
              "                                                     [key], {});\n",
              "          if (!dataTable) return;\n",
              "\n",
              "          const docLinkHtml = 'Like what you see? Visit the ' +\n",
              "            '<a target=\"_blank\" href=https://colab.research.google.com/notebooks/data_table.ipynb>data table notebook</a>'\n",
              "            + ' to learn more about interactive tables.';\n",
              "          element.innerHTML = '';\n",
              "          dataTable['output_type'] = 'display_data';\n",
              "          await google.colab.output.renderOutput(dataTable, element);\n",
              "          const docLink = document.createElement('div');\n",
              "          docLink.innerHTML = docLinkHtml;\n",
              "          element.appendChild(docLink);\n",
              "        }\n",
              "      </script>\n",
              "    </div>\n",
              "  </div>\n",
              "  "
            ]
          },
          "metadata": {},
          "execution_count": 28
        }
      ]
    },
    {
      "cell_type": "code",
      "source": [
        "df.iloc[100:103,0:2]"
      ],
      "metadata": {
        "colab": {
          "base_uri": "https://localhost:8080/",
          "height": 143
        },
        "id": "E1BGDopMbrF7",
        "outputId": "e72d9da4-589f-45d3-ec27-c7a7f65df12c"
      },
      "execution_count": 29,
      "outputs": [
        {
          "output_type": "execute_result",
          "data": {
            "text/plain": [
              "     sepal length (cm)  sepal width (cm)\n",
              "100                6.3               3.3\n",
              "101                5.8               2.7\n",
              "102                7.1               3.0"
            ],
            "text/html": [
              "\n",
              "  <div id=\"df-da8b03d5-64d9-4dc7-9471-735f3c3f1fef\">\n",
              "    <div class=\"colab-df-container\">\n",
              "      <div>\n",
              "<style scoped>\n",
              "    .dataframe tbody tr th:only-of-type {\n",
              "        vertical-align: middle;\n",
              "    }\n",
              "\n",
              "    .dataframe tbody tr th {\n",
              "        vertical-align: top;\n",
              "    }\n",
              "\n",
              "    .dataframe thead th {\n",
              "        text-align: right;\n",
              "    }\n",
              "</style>\n",
              "<table border=\"1\" class=\"dataframe\">\n",
              "  <thead>\n",
              "    <tr style=\"text-align: right;\">\n",
              "      <th></th>\n",
              "      <th>sepal length (cm)</th>\n",
              "      <th>sepal width (cm)</th>\n",
              "    </tr>\n",
              "  </thead>\n",
              "  <tbody>\n",
              "    <tr>\n",
              "      <th>100</th>\n",
              "      <td>6.3</td>\n",
              "      <td>3.3</td>\n",
              "    </tr>\n",
              "    <tr>\n",
              "      <th>101</th>\n",
              "      <td>5.8</td>\n",
              "      <td>2.7</td>\n",
              "    </tr>\n",
              "    <tr>\n",
              "      <th>102</th>\n",
              "      <td>7.1</td>\n",
              "      <td>3.0</td>\n",
              "    </tr>\n",
              "  </tbody>\n",
              "</table>\n",
              "</div>\n",
              "      <button class=\"colab-df-convert\" onclick=\"convertToInteractive('df-da8b03d5-64d9-4dc7-9471-735f3c3f1fef')\"\n",
              "              title=\"Convert this dataframe to an interactive table.\"\n",
              "              style=\"display:none;\">\n",
              "        \n",
              "  <svg xmlns=\"http://www.w3.org/2000/svg\" height=\"24px\"viewBox=\"0 0 24 24\"\n",
              "       width=\"24px\">\n",
              "    <path d=\"M0 0h24v24H0V0z\" fill=\"none\"/>\n",
              "    <path d=\"M18.56 5.44l.94 2.06.94-2.06 2.06-.94-2.06-.94-.94-2.06-.94 2.06-2.06.94zm-11 1L8.5 8.5l.94-2.06 2.06-.94-2.06-.94L8.5 2.5l-.94 2.06-2.06.94zm10 10l.94 2.06.94-2.06 2.06-.94-2.06-.94-.94-2.06-.94 2.06-2.06.94z\"/><path d=\"M17.41 7.96l-1.37-1.37c-.4-.4-.92-.59-1.43-.59-.52 0-1.04.2-1.43.59L10.3 9.45l-7.72 7.72c-.78.78-.78 2.05 0 2.83L4 21.41c.39.39.9.59 1.41.59.51 0 1.02-.2 1.41-.59l7.78-7.78 2.81-2.81c.8-.78.8-2.07 0-2.86zM5.41 20L4 18.59l7.72-7.72 1.47 1.35L5.41 20z\"/>\n",
              "  </svg>\n",
              "      </button>\n",
              "      \n",
              "  <style>\n",
              "    .colab-df-container {\n",
              "      display:flex;\n",
              "      flex-wrap:wrap;\n",
              "      gap: 12px;\n",
              "    }\n",
              "\n",
              "    .colab-df-convert {\n",
              "      background-color: #E8F0FE;\n",
              "      border: none;\n",
              "      border-radius: 50%;\n",
              "      cursor: pointer;\n",
              "      display: none;\n",
              "      fill: #1967D2;\n",
              "      height: 32px;\n",
              "      padding: 0 0 0 0;\n",
              "      width: 32px;\n",
              "    }\n",
              "\n",
              "    .colab-df-convert:hover {\n",
              "      background-color: #E2EBFA;\n",
              "      box-shadow: 0px 1px 2px rgba(60, 64, 67, 0.3), 0px 1px 3px 1px rgba(60, 64, 67, 0.15);\n",
              "      fill: #174EA6;\n",
              "    }\n",
              "\n",
              "    [theme=dark] .colab-df-convert {\n",
              "      background-color: #3B4455;\n",
              "      fill: #D2E3FC;\n",
              "    }\n",
              "\n",
              "    [theme=dark] .colab-df-convert:hover {\n",
              "      background-color: #434B5C;\n",
              "      box-shadow: 0px 1px 3px 1px rgba(0, 0, 0, 0.15);\n",
              "      filter: drop-shadow(0px 1px 2px rgba(0, 0, 0, 0.3));\n",
              "      fill: #FFFFFF;\n",
              "    }\n",
              "  </style>\n",
              "\n",
              "      <script>\n",
              "        const buttonEl =\n",
              "          document.querySelector('#df-da8b03d5-64d9-4dc7-9471-735f3c3f1fef button.colab-df-convert');\n",
              "        buttonEl.style.display =\n",
              "          google.colab.kernel.accessAllowed ? 'block' : 'none';\n",
              "\n",
              "        async function convertToInteractive(key) {\n",
              "          const element = document.querySelector('#df-da8b03d5-64d9-4dc7-9471-735f3c3f1fef');\n",
              "          const dataTable =\n",
              "            await google.colab.kernel.invokeFunction('convertToInteractive',\n",
              "                                                     [key], {});\n",
              "          if (!dataTable) return;\n",
              "\n",
              "          const docLinkHtml = 'Like what you see? Visit the ' +\n",
              "            '<a target=\"_blank\" href=https://colab.research.google.com/notebooks/data_table.ipynb>data table notebook</a>'\n",
              "            + ' to learn more about interactive tables.';\n",
              "          element.innerHTML = '';\n",
              "          dataTable['output_type'] = 'display_data';\n",
              "          await google.colab.output.renderOutput(dataTable, element);\n",
              "          const docLink = document.createElement('div');\n",
              "          docLink.innerHTML = docLinkHtml;\n",
              "          element.appendChild(docLink);\n",
              "        }\n",
              "      </script>\n",
              "    </div>\n",
              "  </div>\n",
              "  "
            ]
          },
          "metadata": {},
          "execution_count": 29
        }
      ]
    }
  ]
}