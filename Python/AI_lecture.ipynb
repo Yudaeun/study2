{
  "nbformat": 4,
  "nbformat_minor": 0,
  "metadata": {
    "colab": {
      "name": "AI lecture.ipynb",
      "provenance": [],
      "collapsed_sections": [
        "S5XjIdFE3WxI",
        "ZGOC7D5h3YVQ",
        "s-nw4wmW7NIo",
        "60AdlJVJ9JEF",
        "21uYr4mqITfZ",
        "tX44-5NtQvuB"
      ]
    },
    "kernelspec": {
      "name": "python3",
      "display_name": "Python 3"
    },
    "language_info": {
      "name": "python"
    }
  },
  "cells": [
    {
      "cell_type": "markdown",
      "source": [
        "##변수"
      ],
      "metadata": {
        "id": "7EYgpoW3w5Rp"
      }
    },
    {
      "cell_type": "code",
      "execution_count": null,
      "metadata": {
        "colab": {
          "base_uri": "https://localhost:8080/"
        },
        "id": "W3SKOmkYvuwY",
        "outputId": "539fc350-7d67-412b-9560-c0961d658b2f"
      },
      "outputs": [
        {
          "output_type": "stream",
          "name": "stdout",
          "text": [
            "10 3.14 Socrates Express (2+3j) x*y=  31.400000000000002\n",
            "<class 'int'> <class 'float'>\n",
            "<class 'str'> <class 'complex'>\n",
            "<class 'bool'>\n",
            "True False\n",
            "False True\n"
          ]
        }
      ],
      "source": [
        "x=10\n",
        "y=3.14\n",
        "c=2+3j\n",
        "s='Socrates Express'\n",
        "b=True\n",
        "print(x,y,s,c,'x*y= ',x*y)\n",
        "print(type(x),type(y))\n",
        "print(type(s),type(c))\n",
        "print(type(b))\n",
        "\n",
        "hungry=True\n",
        "sleep=False\n",
        "print(hungry,sleep)\n",
        "hs_and=hungry and sleep\n",
        "s_not=not sleep\n",
        "print(hs_and,s_not)"
      ]
    },
    {
      "cell_type": "markdown",
      "source": [
        "## 출력하기"
      ],
      "metadata": {
        "id": "qnechU6GzhFM"
      }
    },
    {
      "cell_type": "code",
      "source": [
        "x=10\n",
        "pi=3.141592624\n",
        "e=2.7182818282\n",
        "\n",
        "print(x,pi,e)\n",
        "print(\"x={0}, pi={1}, e={2}\".format(x,pi,e))\n",
        "print(\"x={0}, pi ={1: .2f}, e={2: .4f}\".format(x,pi,e))\n",
        "print(x,pi,end=' ')\n",
        "print(e)"
      ],
      "metadata": {
        "colab": {
          "base_uri": "https://localhost:8080/"
        },
        "id": "nK34ErR7y-Pi",
        "outputId": "7c930f8e-eb91-4286-b9db-23af7844c206"
      },
      "execution_count": null,
      "outputs": [
        {
          "output_type": "stream",
          "name": "stdout",
          "text": [
            "10 3.141592624 2.7182818282\n",
            "x=10, pi=3.141592624, e=2.7182818282\n",
            "x=10, pi = 3.14, e= 2.7183\n",
            "10 3.141592624 2.7182818282\n"
          ]
        }
      ]
    },
    {
      "cell_type": "markdown",
      "source": [
        "## Keyboard 입력받기"
      ],
      "metadata": {
        "id": "JljayJwg0ER0"
      }
    },
    {
      "cell_type": "code",
      "source": [
        "a=input()\n",
        "print(a,type(a))\n",
        "b=int(input())\n",
        "print(b,type(b))"
      ],
      "metadata": {
        "colab": {
          "base_uri": "https://localhost:8080/"
        },
        "id": "3oDi1Nq00ASI",
        "outputId": "016a421b-adbc-4906-d8d0-ef8fee12136f"
      },
      "execution_count": null,
      "outputs": [
        {
          "output_type": "stream",
          "name": "stdout",
          "text": [
            "asdf\n",
            "asdf <class 'str'>\n",
            "3\n",
            "3 <class 'int'>\n"
          ]
        }
      ]
    },
    {
      "cell_type": "markdown",
      "source": [
        "## List"
      ],
      "metadata": {
        "id": "WTn_vPIn0RbK"
      }
    },
    {
      "cell_type": "code",
      "source": [
        "a=[1,2,\"Plato\",3.14,\"Last\"]\n",
        "print(a)\n",
        "a[1]=2.718\n",
        "print(a)\n",
        "print(a[1:3])\n",
        "print(a[2:])\n",
        "print(a[:-2])"
      ],
      "metadata": {
        "colab": {
          "base_uri": "https://localhost:8080/"
        },
        "id": "g6SvQtYk0MZq",
        "outputId": "aaad9910-c2f7-46ff-e3f9-5ea26937a5cf"
      },
      "execution_count": null,
      "outputs": [
        {
          "output_type": "stream",
          "name": "stdout",
          "text": [
            "[1, 2, 'Plato', 3.14, 'Last']\n",
            "[1, 2.718, 'Plato', 3.14, 'Last']\n",
            "[2.718, 'Plato']\n",
            "['Plato', 3.14, 'Last']\n",
            "[1, 2.718, 'Plato']\n"
          ]
        }
      ]
    },
    {
      "cell_type": "code",
      "source": [
        "a=[1,2,3]\n",
        "b=[4,5,6]\n",
        "print(len(a))\n",
        "c=a+b\n",
        "d=3*a\n",
        "print(c)\n",
        "print(d)\n",
        "print(max(a))\n",
        "print(min(a))\n"
      ],
      "metadata": {
        "colab": {
          "base_uri": "https://localhost:8080/"
        },
        "id": "ul7h-dhE0odG",
        "outputId": "ff7db309-0966-4861-b004-cad46791f0d6"
      },
      "execution_count": null,
      "outputs": [
        {
          "output_type": "stream",
          "name": "stdout",
          "text": [
            "3\n",
            "[1, 2, 3, 4, 5, 6]\n",
            "[1, 2, 3, 1, 2, 3, 1, 2, 3]\n",
            "3\n",
            "1\n"
          ]
        }
      ]
    },
    {
      "cell_type": "code",
      "source": [
        "a=[1,2,3]\n",
        "a.append(4)\n",
        "a"
      ],
      "metadata": {
        "colab": {
          "base_uri": "https://localhost:8080/"
        },
        "id": "RUZJu5LK0yjE",
        "outputId": "4c56609a-aeda-46bf-b055-6479b079ea05"
      },
      "execution_count": null,
      "outputs": [
        {
          "output_type": "execute_result",
          "data": {
            "text/plain": [
              "[1, 2, 3, 4]"
            ]
          },
          "metadata": {},
          "execution_count": 9
        }
      ]
    },
    {
      "cell_type": "code",
      "source": [
        "a.extend([4,5,6])\n",
        "a"
      ],
      "metadata": {
        "colab": {
          "base_uri": "https://localhost:8080/"
        },
        "id": "g47l0fv61WyS",
        "outputId": "b03c4e8c-9220-486e-ca6a-2ef9ef3dfc19"
      },
      "execution_count": null,
      "outputs": [
        {
          "output_type": "execute_result",
          "data": {
            "text/plain": [
              "[1, 2, 3, 4, 4, 5, 6]"
            ]
          },
          "metadata": {},
          "execution_count": 10
        }
      ]
    },
    {
      "cell_type": "code",
      "source": [
        "a=[2,4,5]\n",
        "a.insert(0,1)\n",
        "a\n",
        "a.insert(2,3)\n",
        "a"
      ],
      "metadata": {
        "colab": {
          "base_uri": "https://localhost:8080/"
        },
        "id": "bYOlr-sO1b01",
        "outputId": "787eccf1-594d-4b9a-ef42-1d6808d3737d"
      },
      "execution_count": null,
      "outputs": [
        {
          "output_type": "execute_result",
          "data": {
            "text/plain": [
              "[1, 2, 3, 4, 5]"
            ]
          },
          "metadata": {},
          "execution_count": 11
        }
      ]
    },
    {
      "cell_type": "code",
      "source": [
        "a=['B','A','C','D']\n",
        "a.remove('B')\n",
        "a"
      ],
      "metadata": {
        "colab": {
          "base_uri": "https://localhost:8080/"
        },
        "id": "ciW6tH8C1hvM",
        "outputId": "67153700-06f6-4051-c4de-8a0c6ba18c51"
      },
      "execution_count": null,
      "outputs": [
        {
          "output_type": "execute_result",
          "data": {
            "text/plain": [
              "['A', 'C', 'D']"
            ]
          },
          "metadata": {},
          "execution_count": 12
        }
      ]
    },
    {
      "cell_type": "code",
      "source": [
        "a=[1,2,3,4,5]\n",
        "a.pop()\n",
        "a\n",
        "a.pop()\n",
        "a\n",
        "a.pop(2)\n",
        "a"
      ],
      "metadata": {
        "colab": {
          "base_uri": "https://localhost:8080/"
        },
        "id": "ht09pXsL1pNK",
        "outputId": "0992f40e-ce16-4a23-dbea-7af3cc4a0371"
      },
      "execution_count": null,
      "outputs": [
        {
          "output_type": "execute_result",
          "data": {
            "text/plain": [
              "[1, 2]"
            ]
          },
          "metadata": {},
          "execution_count": 13
        }
      ]
    },
    {
      "cell_type": "code",
      "source": [
        "a=['abc','def','ghi']\n",
        "a.index('def')"
      ],
      "metadata": {
        "colab": {
          "base_uri": "https://localhost:8080/"
        },
        "id": "dpjfHVM61wX7",
        "outputId": "6c528e85-e119-4efd-f314-72a1d1ad189b"
      },
      "execution_count": null,
      "outputs": [
        {
          "output_type": "execute_result",
          "data": {
            "text/plain": [
              "1"
            ]
          },
          "metadata": {},
          "execution_count": 14
        }
      ]
    },
    {
      "cell_type": "code",
      "source": [
        "a=[1,100,2,100,3,100]\n",
        "a.count(100)"
      ],
      "metadata": {
        "colab": {
          "base_uri": "https://localhost:8080/"
        },
        "id": "LCcsFQf215Oh",
        "outputId": "14242090-d1d1-40e4-c27c-08f090b40ef1"
      },
      "execution_count": null,
      "outputs": [
        {
          "output_type": "execute_result",
          "data": {
            "text/plain": [
              "3"
            ]
          },
          "metadata": {},
          "execution_count": 15
        }
      ]
    },
    {
      "cell_type": "code",
      "source": [
        "a=[3,4,5,1,2]\n",
        "a.sort()\n",
        "a\n",
        "a.sort(reverse=True)\n",
        "a"
      ],
      "metadata": {
        "colab": {
          "base_uri": "https://localhost:8080/"
        },
        "id": "dcM-pFBr17_H",
        "outputId": "0dff76d3-c0d8-4a34-d74f-d77c17461b8d"
      },
      "execution_count": null,
      "outputs": [
        {
          "output_type": "execute_result",
          "data": {
            "text/plain": [
              "[5, 4, 3, 2, 1]"
            ]
          },
          "metadata": {},
          "execution_count": 16
        }
      ]
    },
    {
      "cell_type": "code",
      "source": [
        "a=[3,4,5,1,2]\n",
        "a.reverse()\n",
        "a\n"
      ],
      "metadata": {
        "colab": {
          "base_uri": "https://localhost:8080/"
        },
        "id": "Za5UR53-2BqA",
        "outputId": "a92abef0-7fd9-49d8-ee0e-f2242fabcf19"
      },
      "execution_count": null,
      "outputs": [
        {
          "output_type": "execute_result",
          "data": {
            "text/plain": [
              "[2, 1, 5, 4, 3]"
            ]
          },
          "metadata": {},
          "execution_count": 17
        }
      ]
    },
    {
      "cell_type": "code",
      "source": [
        "b=['안','녕,','하','세','요']\n",
        "b.reverse()\n",
        "b"
      ],
      "metadata": {
        "colab": {
          "base_uri": "https://localhost:8080/"
        },
        "id": "bN5J91fo2Ea2",
        "outputId": "715b17bd-41ef-4ac1-ab98-689efc39c005"
      },
      "execution_count": null,
      "outputs": [
        {
          "output_type": "execute_result",
          "data": {
            "text/plain": [
              "['요', '세', '하', '녕,', '안']"
            ]
          },
          "metadata": {},
          "execution_count": 18
        }
      ]
    },
    {
      "cell_type": "code",
      "source": [
        "a=[2,4,5,9,8]\n",
        "b=[1,2,3,4,5]\n",
        "a[1]=10\n",
        "print(a)\n",
        "a.reverse()\n",
        "print(a)\n",
        "c=a+b\n",
        "print(b)"
      ],
      "metadata": {
        "colab": {
          "base_uri": "https://localhost:8080/"
        },
        "id": "F82bj4uZ2JFz",
        "outputId": "cb82da00-5d9c-422a-a63e-ec0025b6ad05"
      },
      "execution_count": null,
      "outputs": [
        {
          "output_type": "stream",
          "name": "stdout",
          "text": [
            "[2, 10, 5, 9, 8]\n",
            "[8, 9, 5, 10, 2]\n",
            "[1, 2, 3, 4, 5]\n"
          ]
        }
      ]
    },
    {
      "cell_type": "markdown",
      "source": [
        "## 튜플"
      ],
      "metadata": {
        "id": "S5XjIdFE3WxI"
      }
    },
    {
      "cell_type": "code",
      "source": [
        "a=(1,2,\"hello\",4)\n",
        "b=3,4\n",
        "print(len(b))\n",
        "print(type(b))\n",
        "print(a[1:3])\n",
        "print(a+b)"
      ],
      "metadata": {
        "colab": {
          "base_uri": "https://localhost:8080/"
        },
        "id": "4MDjC1Q22bFE",
        "outputId": "a977ea06-f5f7-4cc7-eb9e-ce55c269e4d3"
      },
      "execution_count": null,
      "outputs": [
        {
          "output_type": "stream",
          "name": "stdout",
          "text": [
            "2\n",
            "<class 'tuple'>\n",
            "(2, 'hello')\n",
            "(1, 2, 'hello', 4, 3, 4)\n"
          ]
        }
      ]
    },
    {
      "cell_type": "code",
      "source": [
        "a=1,2,3\n",
        "print(a)\n",
        "\n",
        "one,two,three=a\n",
        "print(one,two,three)\n",
        "print(type(one))\n",
        "\n",
        "city,latitude,longitude='Seoul',37.541,126.986\n",
        "print(city,latitude,longitude)"
      ],
      "metadata": {
        "colab": {
          "base_uri": "https://localhost:8080/"
        },
        "id": "bCKXBBXh20US",
        "outputId": "35b31206-a87b-45bf-d224-ff2c2a4f7b0a"
      },
      "execution_count": null,
      "outputs": [
        {
          "output_type": "stream",
          "name": "stdout",
          "text": [
            "(1, 2, 3)\n",
            "1 2 3\n",
            "<class 'int'>\n",
            "Seoul 37.541 126.986\n"
          ]
        }
      ]
    },
    {
      "cell_type": "markdown",
      "source": [
        "## Dictionary"
      ],
      "metadata": {
        "id": "ZGOC7D5h3YVQ"
      }
    },
    {
      "cell_type": "code",
      "source": [
        "man={'height':175,'weight':60}\n",
        "print(man['height'],man['weight'])\n",
        "man['height']=180\n",
        "print(man)"
      ],
      "metadata": {
        "colab": {
          "base_uri": "https://localhost:8080/"
        },
        "id": "QDE07DM03NO_",
        "outputId": "9ab952b7-3ccb-4a5e-e64d-e5d595859f05"
      },
      "execution_count": null,
      "outputs": [
        {
          "output_type": "stream",
          "name": "stdout",
          "text": [
            "175 60\n",
            "{'height': 180, 'weight': 60}\n"
          ]
        }
      ]
    },
    {
      "cell_type": "code",
      "source": [
        "dic={'one':0,'two':2}\n",
        "dic['one']=1\n",
        "print(dic)\n",
        "\n",
        "dic['three']=3\n",
        "print(dic)\n",
        "\n",
        "del(dic['one'])\n",
        "print(dic)\n",
        "\n",
        "dic1={1:10,2:20}\n",
        "dic2={1:100,3:300}\n",
        "print(dic1[1])\n",
        "\n",
        "dic1.update(dic2)\n",
        "print(dic1)"
      ],
      "metadata": {
        "colab": {
          "base_uri": "https://localhost:8080/"
        },
        "id": "HhgPIZmA3r_8",
        "outputId": "b09d72f1-9eec-43be-ed5f-296ba6fb47a8"
      },
      "execution_count": null,
      "outputs": [
        {
          "output_type": "stream",
          "name": "stdout",
          "text": [
            "{'one': 1, 'two': 2}\n",
            "{'one': 1, 'two': 2, 'three': 3}\n",
            "{'two': 2, 'three': 3}\n",
            "10\n",
            "{1: 100, 2: 20, 3: 300}\n"
          ]
        }
      ]
    },
    {
      "cell_type": "code",
      "source": [
        "dic={'애플':'www.apple.com','파이썬':'www.python.org','마이크로소프트':'www.microsoft.com'}\n",
        "print(dic.keys())\n",
        "print(dic.values())\n",
        "print(dic.items())\n",
        "print('애플' in dic.keys())\n",
        "print('사과' in dic.keys())\n",
        "print('www.microsoft.com' in dic.values())\n",
        "print('www.dictionary.com' in dic.values())\n",
        "\n",
        "dic.pop('애플')\n",
        "print(dic)\n",
        "dic.clear()\n",
        "print(dic)"
      ],
      "metadata": {
        "colab": {
          "base_uri": "https://localhost:8080/"
        },
        "id": "DRHfsnpa4GS_",
        "outputId": "fad679f8-baf6-4c51-ca5b-6348e3cd6adf"
      },
      "execution_count": null,
      "outputs": [
        {
          "output_type": "stream",
          "name": "stdout",
          "text": [
            "dict_keys(['애플', '파이썬', '마이크로소프트'])\n",
            "dict_values(['www.apple.com', 'www.python.org', 'www.microsoft.com'])\n",
            "dict_items([('애플', 'www.apple.com'), ('파이썬', 'www.python.org'), ('마이크로소프트', 'www.microsoft.com')])\n",
            "True\n",
            "False\n",
            "True\n",
            "False\n",
            "{'파이썬': 'www.python.org', '마이크로소프트': 'www.microsoft.com'}\n",
            "{}\n"
          ]
        }
      ]
    },
    {
      "cell_type": "code",
      "source": [
        "a=[1,2,3]\n",
        "a.append(4)\n",
        "a"
      ],
      "metadata": {
        "colab": {
          "base_uri": "https://localhost:8080/"
        },
        "id": "2rR4-wdS5Gan",
        "outputId": "27978e60-09c7-4403-8489-fa4e0635ea4b"
      },
      "execution_count": null,
      "outputs": [
        {
          "output_type": "execute_result",
          "data": {
            "text/plain": [
              "[1, 2, 3, 4]"
            ]
          },
          "metadata": {},
          "execution_count": 25
        }
      ]
    },
    {
      "cell_type": "code",
      "source": [
        "a=[1,2,3,4,5]\n",
        "a.pop(2)\n",
        "a"
      ],
      "metadata": {
        "colab": {
          "base_uri": "https://localhost:8080/"
        },
        "id": "Qb8TzyIs5MWq",
        "outputId": "47c4d4af-35d9-4371-92a6-0a5bb00a463c"
      },
      "execution_count": null,
      "outputs": [
        {
          "output_type": "execute_result",
          "data": {
            "text/plain": [
              "[1, 2, 4, 5]"
            ]
          },
          "metadata": {},
          "execution_count": 26
        }
      ]
    },
    {
      "cell_type": "code",
      "source": [
        "dic={}\n",
        "dic['사과']='apple'\n",
        "dic['배']='pear'\n",
        "print(dic)\n",
        "dic1={'사과':'apple','배':'pear'}\n",
        "print(dic1)"
      ],
      "metadata": {
        "colab": {
          "base_uri": "https://localhost:8080/"
        },
        "id": "8_fI-lwj5Pog",
        "outputId": "d3690487-23c3-4bee-cf65-a304075e69f9"
      },
      "execution_count": null,
      "outputs": [
        {
          "output_type": "stream",
          "name": "stdout",
          "text": [
            "{'사과': 'apple', '배': 'pear'}\n",
            "{'사과': 'apple', '배': 'pear'}\n"
          ]
        }
      ]
    },
    {
      "cell_type": "code",
      "source": [
        "a=not True #false\n",
        "b=not False #true\n",
        "print(a,b)\n",
        "\n",
        "a=not 0 #true\n",
        "b=not -1 #false\n",
        "print(a,b)\n",
        "\n",
        "a=3>2 #true\n",
        "b=2>3 #false\n",
        "print(a,b)\n",
        "\n"
      ],
      "metadata": {
        "colab": {
          "base_uri": "https://localhost:8080/"
        },
        "id": "2K_BEa1z5hom",
        "outputId": "66414572-648b-412a-dc0f-a7389eb449e5"
      },
      "execution_count": null,
      "outputs": [
        {
          "output_type": "stream",
          "name": "stdout",
          "text": [
            "False True\n",
            "True False\n",
            "True False\n"
          ]
        }
      ]
    },
    {
      "cell_type": "code",
      "source": [
        "a=not 'ABC' #false\n",
        "b=not '' #true\n",
        "print(a,b)\n",
        "\n",
        "tuple1=not(1,2,3) #false\n",
        "tuple2=not() #true\n",
        "list=not [] #true\n",
        "dict=not {} #true\n",
        "\n",
        "print(tuple1,tuple2,list,dict)"
      ],
      "metadata": {
        "colab": {
          "base_uri": "https://localhost:8080/"
        },
        "id": "1phsiR3851A7",
        "outputId": "1a7c494f-d60d-4a1e-cdaf-b0bc1afe2090"
      },
      "execution_count": null,
      "outputs": [
        {
          "output_type": "stream",
          "name": "stdout",
          "text": [
            "False True\n",
            "False True True True\n"
          ]
        }
      ]
    },
    {
      "cell_type": "code",
      "source": [
        "print(True and True)\n",
        "print(True and False)\n",
        "print(False and True)\n",
        "print(False and False)\n",
        "print()\n",
        "print(True or True)\n",
        "print(True or False)\n",
        "print(False or True)\n",
        "print(False or False)"
      ],
      "metadata": {
        "colab": {
          "base_uri": "https://localhost:8080/"
        },
        "id": "ANBA1tDZ6GcB",
        "outputId": "c52adc3e-26da-4f52-913e-da1b1a57a912"
      },
      "execution_count": null,
      "outputs": [
        {
          "output_type": "stream",
          "name": "stdout",
          "text": [
            "True\n",
            "False\n",
            "False\n",
            "False\n",
            "\n",
            "True\n",
            "True\n",
            "True\n",
            "False\n"
          ]
        }
      ]
    },
    {
      "cell_type": "code",
      "source": [
        "print(bool(123)) #true\n",
        "print(bool(())) #false\n",
        "print(bool([])) #false\n",
        "print(bool((1,2,3))) #true\n",
        "print(bool({()})) #true"
      ],
      "metadata": {
        "colab": {
          "base_uri": "https://localhost:8080/"
        },
        "id": "pKMCX4bJ6YGn",
        "outputId": "5610cb45-fc2c-4630-ebbe-df6db7a03686"
      },
      "execution_count": null,
      "outputs": [
        {
          "output_type": "stream",
          "name": "stdout",
          "text": [
            "True\n",
            "False\n",
            "False\n",
            "True\n",
            "True\n"
          ]
        }
      ]
    },
    {
      "cell_type": "markdown",
      "source": [
        "## IF 조건문"
      ],
      "metadata": {
        "id": "s-nw4wmW7NIo"
      }
    },
    {
      "cell_type": "code",
      "source": [
        "print(\"Input a number: \")\n",
        "a=int(input())\n",
        "if a==0:\n",
        "  print(\"0으로 나눌 수 없음\")\n",
        "else:\n",
        "  print(\"10/\",a,\"=\",10/a)"
      ],
      "metadata": {
        "colab": {
          "base_uri": "https://localhost:8080/"
        },
        "id": "Mxa1FEiG6z3z",
        "outputId": "e659864e-6654-49b6-8c23-86fa3967da89"
      },
      "execution_count": null,
      "outputs": [
        {
          "output_type": "stream",
          "name": "stdout",
          "text": [
            "Input a number: \n",
            "3\n",
            "10/ 3 = 3.3333333333333335\n"
          ]
        }
      ]
    },
    {
      "cell_type": "code",
      "source": [
        "print('수를 입력하세요: ')\n",
        "a=int(input())\n",
        "\n",
        "if a==0:\n",
        "  print('0으로 나눌 수 없음')\n",
        "elif a%2==0:\n",
        "  print(a,\"는 2의 배수\")\n",
        "elif a<10:\n",
        "  print(a,\"는 10보다 작은 숫자\")\n",
        "else:\n",
        "  print(a,\"는 2의 배수가 아닌 10이상인 수\")"
      ],
      "metadata": {
        "colab": {
          "base_uri": "https://localhost:8080/"
        },
        "id": "z-FaWgAV7dGW",
        "outputId": "2a97cf54-acc0-48c0-9c79-bef5578cf9b4"
      },
      "execution_count": null,
      "outputs": [
        {
          "output_type": "stream",
          "name": "stdout",
          "text": [
            "수를 입력하세요: \n",
            "3\n",
            "3 는 10보다 작은 숫자\n"
          ]
        }
      ]
    },
    {
      "cell_type": "code",
      "source": [
        "a=int(input())\n",
        "b=int(input())\n",
        "c=int(input())\n",
        "min,max,mid=0,0,0\n",
        "\n",
        "if a<b and b<c:\n",
        "  min=a\n",
        "  max=c\n",
        "  mid=b\n",
        "elif a<b and c<b:\n",
        "  min=a\n",
        "  max=b\n",
        "  mid=c\n",
        "elif b<c and a<c:\n",
        "  min=b\n",
        "  max=c\n",
        "  mid=a\n",
        "elif b<c and c<a:\n",
        "  min=b\n",
        "  max=a\n",
        "  mid=c\n",
        "elif c<a and a<b:\n",
        "  min=c\n",
        "  max=b\n",
        "  mid=a\n",
        "else:\n",
        "  min=c\n",
        "  max=a\n",
        "  mid=b\n",
        "\n",
        "print(min,mid,max)"
      ],
      "metadata": {
        "colab": {
          "base_uri": "https://localhost:8080/"
        },
        "id": "5zdGJrs87xKL",
        "outputId": "2ca1cdbb-5d08-4fb7-d608-1ee42a174a19"
      },
      "execution_count": null,
      "outputs": [
        {
          "output_type": "stream",
          "name": "stdout",
          "text": [
            "3\n",
            "2\n",
            "1\n",
            "1 2 3\n"
          ]
        }
      ]
    },
    {
      "cell_type": "markdown",
      "source": [
        "## 반복문"
      ],
      "metadata": {
        "id": "60AdlJVJ9JEF"
      }
    },
    {
      "cell_type": "code",
      "source": [
        "for a in [3,2,11.3]:\n",
        "  print(a,end=\" \")\n",
        "\n",
        "for a in (1,'hello',11.3):\n",
        "  print(a,end=\" \")\n",
        "\n",
        "dic={'1st':10,'2nd':20,'3rd':30}\n",
        "for k,v in dic.items():\n",
        "  print(\"{0}: {1}\".format(k,v))\n",
        "\n",
        "for b in range(0,10,2):\n",
        "  print(b,end=\" \")"
      ],
      "metadata": {
        "colab": {
          "base_uri": "https://localhost:8080/"
        },
        "id": "no7iVzqw8-Rt",
        "outputId": "9156bb29-b6e9-4086-9627-d5fd330ae998"
      },
      "execution_count": null,
      "outputs": [
        {
          "output_type": "stream",
          "name": "stdout",
          "text": [
            "3 2 11.3 1 hello 11.3 1st: 10\n",
            "2nd: 20\n",
            "3rd: 30\n",
            "0 2 4 6 8 "
          ]
        }
      ]
    },
    {
      "cell_type": "code",
      "source": [
        "limit=int(input())\n",
        "count=0\n",
        "while count<limit:\n",
        "  count=count+1\n",
        "  print('{0}회 반복.'.format(count))\n",
        "\n",
        "print('종료')"
      ],
      "metadata": {
        "colab": {
          "base_uri": "https://localhost:8080/"
        },
        "id": "xvAUVpc89l6R",
        "outputId": "1c16c498-49f8-4487-ca64-bac980caf3c5"
      },
      "execution_count": null,
      "outputs": [
        {
          "output_type": "stream",
          "name": "stdout",
          "text": [
            "5\n",
            "1회 반복.\n",
            "2회 반복.\n",
            "3회 반복.\n",
            "4회 반복.\n",
            "5회 반복.\n",
            "종료\n"
          ]
        }
      ]
    },
    {
      "cell_type": "code",
      "source": [
        "count=0\n",
        "sum=0\n",
        "while count<100:\n",
        "  count+=1\n",
        "  sum+=count\n",
        "\n",
        "print(sum)"
      ],
      "metadata": {
        "colab": {
          "base_uri": "https://localhost:8080/"
        },
        "id": "UgoQKGK9C49W",
        "outputId": "d6cee06c-c26c-42a8-a453-9d1b74531871"
      },
      "execution_count": null,
      "outputs": [
        {
          "output_type": "stream",
          "name": "stdout",
          "text": [
            "5050\n"
          ]
        }
      ]
    },
    {
      "cell_type": "code",
      "source": [
        "count=0\n",
        "sum=0\n",
        "while count<10:\n",
        "  if count%2==0:\n",
        "    sum+=count\n",
        "  count+=1\n",
        "\n",
        "print(sum)\n"
      ],
      "metadata": {
        "colab": {
          "base_uri": "https://localhost:8080/"
        },
        "id": "QvnAdNKpDCwh",
        "outputId": "e3f946cb-5818-4cc1-b3b4-a46949248079"
      },
      "execution_count": null,
      "outputs": [
        {
          "output_type": "stream",
          "name": "stdout",
          "text": [
            "6\n"
          ]
        }
      ]
    },
    {
      "cell_type": "code",
      "source": [
        "count=0\n",
        "sum=0\n",
        "cnt=0\n",
        "while count<10:\n",
        "  if count%2==1:\n",
        "    sum+=count\n",
        "    cnt+=1\n",
        "  count+=1\n",
        "\n",
        "print(sum/cnt)\n"
      ],
      "metadata": {
        "colab": {
          "base_uri": "https://localhost:8080/"
        },
        "id": "w6N--GGZDaMm",
        "outputId": "0faa8738-717c-4df5-87a8-24bfff4d865d"
      },
      "execution_count": null,
      "outputs": [
        {
          "output_type": "stream",
          "name": "stdout",
          "text": [
            "5.0\n"
          ]
        }
      ]
    },
    {
      "cell_type": "code",
      "source": [
        "a=0\n",
        "if a:\n",
        "  print(\"1\")\n",
        "else:\n",
        "  print(\"2\")"
      ],
      "metadata": {
        "colab": {
          "base_uri": "https://localhost:8080/"
        },
        "id": "-gNRvor1D99g",
        "outputId": "9748852f-8b72-4313-dc18-8fc7dd2e2fdb"
      },
      "execution_count": null,
      "outputs": [
        {
          "output_type": "stream",
          "name": "stdout",
          "text": [
            "2\n"
          ]
        }
      ]
    },
    {
      "cell_type": "code",
      "source": [
        "count=0\n",
        "for i in range(7):\n",
        "  if i==4:\n",
        "      continue\n",
        "  for j in range(i):\n",
        "    print(\"*\",end='')\n",
        "  print(\"\\n\")"
      ],
      "metadata": {
        "colab": {
          "base_uri": "https://localhost:8080/"
        },
        "id": "y5gwqbL8ENSQ",
        "outputId": "7a3d5dd5-d58c-4801-dba9-866b9387a15e"
      },
      "execution_count": null,
      "outputs": [
        {
          "output_type": "stream",
          "name": "stdout",
          "text": [
            "\n",
            "\n",
            "*\n",
            "\n",
            "**\n",
            "\n",
            "***\n",
            "\n",
            "*****\n",
            "\n",
            "******\n",
            "\n"
          ]
        }
      ]
    },
    {
      "cell_type": "code",
      "source": [
        "score_legend=['Name','Math','ENG','History']\n",
        "score={'John':[70,80,90],'Tom':[90,95,98],'Mary':[95,85,99]}\n",
        "print(score_legend)\n",
        "for k,v in score.items():\n",
        "  print(k,v)\n"
      ],
      "metadata": {
        "colab": {
          "base_uri": "https://localhost:8080/"
        },
        "id": "W6VxZo8XEuVU",
        "outputId": "6b3341ca-ae13-4985-9fd7-a83dfac116c5"
      },
      "execution_count": null,
      "outputs": [
        {
          "output_type": "stream",
          "name": "stdout",
          "text": [
            "['Name', 'Math', 'ENG', 'History']\n",
            "John [70, 80, 90]\n",
            "Tom [90, 95, 98]\n",
            "Mary [95, 85, 99]\n"
          ]
        }
      ]
    },
    {
      "cell_type": "markdown",
      "source": [
        "## 함수"
      ],
      "metadata": {
        "id": "21uYr4mqITfZ"
      }
    },
    {
      "cell_type": "code",
      "source": [
        "def absolute_value(value):\n",
        "  if(value<0):\n",
        "    abs_value=value*-1\n",
        "  else:\n",
        "    abs_value=value\n",
        "  return abs_value\n",
        "\n",
        "a=-2\n",
        "b=10\n",
        "print(\"abs a=\",absolute_value(a))\n",
        "print(\"abs{0}={1}\".format(b,absolute_value(b)))\n",
        "\n",
        "a=-11.2\n",
        "print(\"abs{0}={1}\".format(a,absolute_value(a)))"
      ],
      "metadata": {
        "colab": {
          "base_uri": "https://localhost:8080/"
        },
        "id": "BwnLDoEZFy6e",
        "outputId": "b1fa9c65-f577-4848-c0b0-d36517b847b9"
      },
      "execution_count": null,
      "outputs": [
        {
          "output_type": "stream",
          "name": "stdout",
          "text": [
            "abs a= 2\n",
            "abs10=10\n",
            "abs-11.2=11.2\n"
          ]
        }
      ]
    },
    {
      "cell_type": "code",
      "source": [
        "def merge_string(*text_list):\n",
        "  print(type(text_list))\n",
        "  result=''\n",
        "  for s in text_list:\n",
        "    result=result+s\n",
        "  return result\n",
        "\n",
        "sentence1=merge_string('Father ','enters ','room.')\n",
        "print(sentence1)\n",
        "sentence2=merge_string('Father ','sleeps')\n",
        "print(sentence2)\n"
      ],
      "metadata": {
        "colab": {
          "base_uri": "https://localhost:8080/"
        },
        "id": "Zo4Yu19oI2O8",
        "outputId": "03833715-2de0-4913-de3f-d09077356ed2"
      },
      "execution_count": null,
      "outputs": [
        {
          "output_type": "stream",
          "name": "stdout",
          "text": [
            "<class 'tuple'>\n",
            "Father enters room.\n",
            "<class 'tuple'>\n",
            "Father sleeps\n"
          ]
        }
      ]
    },
    {
      "cell_type": "code",
      "source": [
        "def merge_list_string(text_list):\n",
        "  print(type(text_list))\n",
        "  result=''\n",
        "  for s in text_list:\n",
        "    result=result+s\n",
        "  return result\n",
        "\n",
        "sentence3=merge_list_string(['Father ','sleeps'])\n",
        "print(sentence3)"
      ],
      "metadata": {
        "colab": {
          "base_uri": "https://localhost:8080/"
        },
        "id": "aBRUHVMbLODk",
        "outputId": "7d8cce7c-2db5-48f4-c558-da4ae4fddb8b"
      },
      "execution_count": null,
      "outputs": [
        {
          "output_type": "stream",
          "name": "stdout",
          "text": [
            "<class 'list'>\n",
            "Father sleeps\n"
          ]
        }
      ]
    },
    {
      "cell_type": "code",
      "source": [
        "def print_team(**players):\n",
        "  print(type(players))\n",
        "  for k in players.keys():\n",
        "    print('{0}={1}'.format(k,players[k]))\n",
        "\n",
        "print_team(카시야스='GK',호날두='FW',알론소='MF')"
      ],
      "metadata": {
        "colab": {
          "base_uri": "https://localhost:8080/"
        },
        "id": "dFcVubztL5hy",
        "outputId": "585bb735-17e2-4e2f-920c-b55beab37cdc"
      },
      "execution_count": null,
      "outputs": [
        {
          "output_type": "stream",
          "name": "stdout",
          "text": [
            "<class 'dict'>\n",
            "카시야스=GK\n",
            "호날두=FW\n",
            "알론소=MF\n"
          ]
        }
      ]
    },
    {
      "cell_type": "code",
      "source": [
        "def print_something(a):\n",
        "  print(a)\n",
        "\n",
        "func_variable=print_something\n",
        "func_variable(123)\n",
        "func_variable('abc')\n",
        "\n",
        "def plus(a,b):\n",
        "  return a+b\n",
        "def minus(a,b):\n",
        "  return a-b\n",
        "\n",
        "func_list=[plus,minus]\n",
        "print(func_list [0](1,2))\n",
        "print(func_list [1](1,2))\n"
      ],
      "metadata": {
        "colab": {
          "base_uri": "https://localhost:8080/"
        },
        "id": "Gcai0kA-Nko5",
        "outputId": "2993c322-279f-4cd9-9dee-23766724c541"
      },
      "execution_count": null,
      "outputs": [
        {
          "output_type": "stream",
          "name": "stdout",
          "text": [
            "123\n",
            "abc\n",
            "3\n",
            "-1\n"
          ]
        }
      ]
    },
    {
      "cell_type": "code",
      "source": [
        "def print_personnel(name,position='staff',nationality='KOR'):\n",
        "  print('name=',name)\n",
        "  print('position=',position)\n",
        "  print('nationality=',nationality,\"\\n\")\n",
        "\n",
        "print_personnel(name=\"Park SH\")"
      ],
      "metadata": {
        "colab": {
          "base_uri": "https://localhost:8080/"
        },
        "id": "3HYcwvuwPVwz",
        "outputId": "bb238206-9a40-4183-a70b-905a362ed97b"
      },
      "execution_count": null,
      "outputs": [
        {
          "output_type": "stream",
          "name": "stdout",
          "text": [
            "name= Park SH\n",
            "position= staff\n",
            "nationality= KOR \n",
            "\n"
          ]
        }
      ]
    },
    {
      "cell_type": "code",
      "source": [
        "def average(*value_tuple):\n",
        "  mean=0\n",
        "  for v in value_tuple:\n",
        "    mean+=v\n",
        "  mean/=len(value_tuple)\n",
        "  return mean\n",
        "\n",
        "print(average(1,2,3))\n",
        "print(average(1,2,3,4,5))"
      ],
      "metadata": {
        "colab": {
          "base_uri": "https://localhost:8080/"
        },
        "id": "zdnrAa8IQClP",
        "outputId": "4765c8d2-3902-4ca5-8373-76652d4c02cb"
      },
      "execution_count": null,
      "outputs": [
        {
          "output_type": "stream",
          "name": "stdout",
          "text": [
            "2.0\n",
            "3.0\n"
          ]
        }
      ]
    },
    {
      "cell_type": "markdown",
      "source": [
        "## 클래스"
      ],
      "metadata": {
        "id": "tX44-5NtQvuB"
      }
    },
    {
      "cell_type": "code",
      "source": [
        "class Rectangle:\n",
        "  count=0\n",
        "  def __init__(self,width,height):\n",
        "    self.width=width\n",
        "    self.height=height\n",
        "    Rectangle.count+=1\n",
        "  def calcArea(self):\n",
        "    area=self.width*self.height\n",
        "    return area\n",
        "  def __call__(self):\n",
        "    print(\"폭:{0}, 높이: {1}, 면적: {2}\".format(self.width,self.height,self.calcArea()))\n",
        "  #정적 메서드\n",
        "  @staticmethod\n",
        "  def isSquare(rectWidth,rectHeight):\n",
        "    return rectWidth==rectHeight\n",
        "  # 클래스 메서드\n",
        "  @classmethod\n",
        "  def printCount(cls):\n",
        "    print(\"\\t 생성된 instance 개수=\",cls.count)\n",
        "\n",
        "  #객체 (instance), rect1 생성\n",
        "rect1=Rectangle(5,5)\n",
        "print(\"instance 멤버변수 접근 width=\",rect1.width)\n",
        "print(\"instance 멤버함수 접근 calcArea=\",rect1.calcArea())\n",
        "\n",
        "  # 정적 method에 접근함\n",
        "  # instance를 생성하지 않고 실행됨\n",
        "print(\"static 멤버 함수 접근 isSquare()=\",Rectangle.isSquare(5,5))\n",
        "rect2=Rectangle(2,5)\n",
        "rect2.printCount()\n",
        "rect2() #__call()__ 함수 호출\n"
      ],
      "metadata": {
        "id": "inn7-3FIQWZi",
        "colab": {
          "base_uri": "https://localhost:8080/"
        },
        "outputId": "3ed34c67-f06d-4176-b9d2-790918f30158"
      },
      "execution_count": null,
      "outputs": [
        {
          "output_type": "stream",
          "name": "stdout",
          "text": [
            "instance 멤버변수 접근 width= 5\n",
            "instance 멤버함수 접근 calcArea= 25\n",
            "static 멤버 함수 접근 isSquare()= True\n",
            "\t 생성된 instance 개수= 2\n",
            "폭:2, 높이: 5, 면적: 10\n"
          ]
        }
      ]
    },
    {
      "cell_type": "markdown",
      "source": [
        "## 상속"
      ],
      "metadata": {
        "id": "34k6GpB5Besg"
      }
    },
    {
      "cell_type": "code",
      "source": [
        "class Base:\n",
        "  def base_method(self):\n",
        "    print(\"Base\")\n",
        "class Derived(Base):\n",
        "  def derived_method(self):\n",
        "    print(\"Derived\")\n",
        "\n",
        "base=Base()\n",
        "print(\"1: \",end=\" \")\n",
        "base.base_method()\n",
        "\n",
        "derived=Derived()\n",
        "print(\"2: \",end=\" \")\n",
        "derived.derived_method()\n",
        "print(\"3: \",end=\" \")\n",
        "derived.base_method()"
      ],
      "metadata": {
        "colab": {
          "base_uri": "https://localhost:8080/"
        },
        "id": "jImM4FoiBfdO",
        "outputId": "bc676e2f-46dc-4e62-e997-c5755a205e65"
      },
      "execution_count": null,
      "outputs": [
        {
          "output_type": "stream",
          "name": "stdout",
          "text": [
            "1:  Base\n",
            "2:  Derived\n",
            "3:  Base\n"
          ]
        }
      ]
    },
    {
      "cell_type": "code",
      "source": [
        ""
      ],
      "metadata": {
        "id": "YR2CiucSB80p"
      },
      "execution_count": null,
      "outputs": []
    }
  ]
}