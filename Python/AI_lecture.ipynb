{
  "nbformat": 4,
  "nbformat_minor": 0,
  "metadata": {
    "colab": {
      "name": "AI lecture.ipynb",
      "provenance": [],
      "collapsed_sections": []
    },
    "kernelspec": {
      "name": "python3",
      "display_name": "Python 3"
    },
    "language_info": {
      "name": "python"
    }
  },
  "cells": [
    {
      "cell_type": "markdown",
      "source": [
        "##변수"
      ],
      "metadata": {
        "id": "7EYgpoW3w5Rp"
      }
    },
    {
      "cell_type": "code",
      "execution_count": 1,
      "metadata": {
        "colab": {
          "base_uri": "https://localhost:8080/"
        },
        "id": "W3SKOmkYvuwY",
        "outputId": "a1487c37-93c1-4eda-a505-880c9c70914b"
      },
      "outputs": [
        {
          "output_type": "stream",
          "name": "stdout",
          "text": [
            "1:  10 3.14 Socrates Express (2+3j) x*y=  31.400000000000002 \n",
            "\n",
            "2:  type(x)= <class 'int'> type(y)= <class 'float'>\n",
            "3:  type(s)= <class 'str'> type(c)= <class 'complex'>\n",
            "4:  type(b)= <class 'bool'> \n",
            "\n",
            "5:  hungry= True , sleep= False\n",
            "6:  hs_and=  False , s_not= True\n"
          ]
        }
      ],
      "source": [
        "x=10  #int 변수 x의 초기화\n",
        "y=3.14  #float 변수 y의 초기화\n",
        "c=2+3j #복소수\n",
        "s='Socrates Express'\n",
        "b=True\n",
        "print(\"1: \",x,y,s,c,'x*y= ',x*y,'\\n')\n",
        "print(\"2: \", \"type(x)=\", type(x),\"type(y)=\", type(y))\n",
        "print(\"3: \", \"type(s)=\", type(s),\"type(c)=\", type(c))\n",
        "print(\"4: \", \"type(b)=\", type(b),'\\n')\n",
        "\n",
        "hungry=True\n",
        "sleep=False\n",
        "print(\"5: \", 'hungry=',hungry,', sleep=', sleep)\n",
        "hs_and=hungry and sleep\n",
        "s_not=not sleep\n",
        "print(\"6: \", 'hs_and= ', hs_and,', s_not=' , s_not)"
      ]
    },
    {
      "cell_type": "markdown",
      "source": [
        "## 출력하기"
      ],
      "metadata": {
        "id": "qnechU6GzhFM"
      }
    },
    {
      "cell_type": "code",
      "source": [
        "x=10\n",
        "pi=3.141592624\n",
        "e=2.7182818282\n",
        "\n",
        "print(\"1:\", x,pi,e)\n",
        "print(\"2: x={0}, pi={1}, e={2}\".format(x,pi,e))\n",
        "print(\"3: x={0}, pi ={1: .2f}, e={2: .4f}\".format(x,pi,e))\n",
        "print(\"4: \",x,pi,end=' ')\n",
        "print(\" e=\" , e)"
      ],
      "metadata": {
        "colab": {
          "base_uri": "https://localhost:8080/"
        },
        "id": "nK34ErR7y-Pi",
        "outputId": "954d5961-b74f-450b-81eb-fdb09565a263"
      },
      "execution_count": 2,
      "outputs": [
        {
          "output_type": "stream",
          "name": "stdout",
          "text": [
            "1: 10 3.141592624 2.7182818282\n",
            "2: x=10, pi=3.141592624, e=2.7182818282\n",
            "3: x=10, pi = 3.14, e= 2.7183\n",
            "4:  10 3.141592624  e= 2.7182818282\n"
          ]
        }
      ]
    },
    {
      "cell_type": "markdown",
      "source": [
        "## Keyboard 입력받기"
      ],
      "metadata": {
        "id": "JljayJwg0ER0"
      }
    },
    {
      "cell_type": "code",
      "source": [
        "a=input()\n",
        "print(\"1: a=\",a,\"type(a=\",type(a))\n",
        "b=int(input())\n",
        "print(\"2: b=\",b,\"type(b)=\",type(b))"
      ],
      "metadata": {
        "colab": {
          "base_uri": "https://localhost:8080/"
        },
        "id": "3oDi1Nq00ASI",
        "outputId": "016a421b-adbc-4906-d8d0-ef8fee12136f"
      },
      "execution_count": null,
      "outputs": [
        {
          "output_type": "stream",
          "name": "stdout",
          "text": [
            "asdf\n",
            "asdf <class 'str'>\n",
            "3\n",
            "3 <class 'int'>\n"
          ]
        }
      ]
    },
    {
      "cell_type": "markdown",
      "source": [
        "## List"
      ],
      "metadata": {
        "id": "WTn_vPIn0RbK"
      }
    },
    {
      "cell_type": "code",
      "source": [
        "a=[1,2,\"Plato\",3.14,\"Last\"]\n",
        "print(\"1: a=\",a)\n",
        "a[1]=2.718\n",
        "print(\"2: a=\",a)\n",
        "print(\"3: a[1:3]=\",a[1:3])\n",
        "print(\"4: a[2:]=\",a[2:])\n",
        "print(\"5: a[:,-2]=\",a[:-2])"
      ],
      "metadata": {
        "colab": {
          "base_uri": "https://localhost:8080/"
        },
        "id": "g6SvQtYk0MZq",
        "outputId": "7e0da613-464c-4df3-964d-1cb02ce6dbc3"
      },
      "execution_count": 3,
      "outputs": [
        {
          "output_type": "stream",
          "name": "stdout",
          "text": [
            "1: a= [1, 2, 'Plato', 3.14, 'Last']\n",
            "2: a= [1, 2.718, 'Plato', 3.14, 'Last']\n",
            "3: a[1:3]= [2.718, 'Plato']\n",
            "4: a[2:]= ['Plato', 3.14, 'Last']\n",
            "5: a[:,-2]= [1, 2.718, 'Plato']\n"
          ]
        }
      ]
    },
    {
      "cell_type": "code",
      "source": [
        "a=[1,2,3]\n",
        "b=[4,5,6]\n",
        "print(\"1: Length of list a=\", len(a))\n",
        "c=a+b\n",
        "d=3*a\n",
        "print(\"2: a+b=\",c)\n",
        "print(\"3: 3*a=\",d)\n",
        "print(\"4: max(a)=\",max(a))\n",
        "print(\"5: min(a)=\",min(a))\n"
      ],
      "metadata": {
        "colab": {
          "base_uri": "https://localhost:8080/"
        },
        "id": "ul7h-dhE0odG",
        "outputId": "ff7db309-0966-4861-b004-cad46791f0d6"
      },
      "execution_count": null,
      "outputs": [
        {
          "output_type": "stream",
          "name": "stdout",
          "text": [
            "3\n",
            "[1, 2, 3, 4, 5, 6]\n",
            "[1, 2, 3, 1, 2, 3, 1, 2, 3]\n",
            "3\n",
            "1\n"
          ]
        }
      ]
    },
    {
      "cell_type": "code",
      "source": [
        "a=[1,2,3]\n",
        "a.append(4) #리스트의 끝에 새 요소를 추가\n",
        "a"
      ],
      "metadata": {
        "colab": {
          "base_uri": "https://localhost:8080/"
        },
        "id": "RUZJu5LK0yjE",
        "outputId": "4c56609a-aeda-46bf-b055-6479b079ea05"
      },
      "execution_count": null,
      "outputs": [
        {
          "output_type": "execute_result",
          "data": {
            "text/plain": [
              "[1, 2, 3, 4]"
            ]
          },
          "metadata": {},
          "execution_count": 9
        }
      ]
    },
    {
      "cell_type": "code",
      "source": [
        "a=[1,2,3]\n",
        "a.extend([4,5,6]) #기존 리스트에 다른 리스트를 이어 붙인다. +연산자와 같은 기능\n",
        "a"
      ],
      "metadata": {
        "colab": {
          "base_uri": "https://localhost:8080/"
        },
        "id": "g47l0fv61WyS",
        "outputId": "ff5daa50-74ab-499e-814f-b5b3f7100f61"
      },
      "execution_count": 4,
      "outputs": [
        {
          "output_type": "execute_result",
          "data": {
            "text/plain": [
              "[1, 2, 3, 4, 5, 6]"
            ]
          },
          "metadata": {},
          "execution_count": 4
        }
      ]
    },
    {
      "cell_type": "code",
      "source": [
        "a=[2,4,5]\n",
        "a.insert(0,1) #첨자로 명시한 리스트 내의 위치에 새 요소를 삽입\n",
        "a\n",
        "a.insert(2,3)\n",
        "a"
      ],
      "metadata": {
        "colab": {
          "base_uri": "https://localhost:8080/"
        },
        "id": "bYOlr-sO1b01",
        "outputId": "787eccf1-594d-4b9a-ef42-1d6808d3737d"
      },
      "execution_count": null,
      "outputs": [
        {
          "output_type": "execute_result",
          "data": {
            "text/plain": [
              "[1, 2, 3, 4, 5]"
            ]
          },
          "metadata": {},
          "execution_count": 11
        }
      ]
    },
    {
      "cell_type": "code",
      "source": [
        "a=['BMW','BENZ','VOLKSWAGEN','AUDI']\n",
        "a.remove('BMW') #매개 변수로 입력한 데이터를 리스트에서 찾아 발견한 첫 번재 요소를 제거\n",
        "a"
      ],
      "metadata": {
        "colab": {
          "base_uri": "https://localhost:8080/"
        },
        "id": "ciW6tH8C1hvM",
        "outputId": "f64c0d50-e763-4ba6-dcba-f054ce090484"
      },
      "execution_count": 5,
      "outputs": [
        {
          "output_type": "execute_result",
          "data": {
            "text/plain": [
              "['BENZ', 'VOLKSWAGEN', 'AUDI']"
            ]
          },
          "metadata": {},
          "execution_count": 5
        }
      ]
    },
    {
      "cell_type": "code",
      "source": [
        "a=[1,2,3,4,5]\n",
        "a.pop() #리스트의 마지막 요소를 뽑아내 리스트에서 제거\n",
        "a\n",
        "a.pop()\n",
        "a\n",
        "a=[1,2,3,4,5]\n",
        "a.pop(2)\n",
        "a"
      ],
      "metadata": {
        "colab": {
          "base_uri": "https://localhost:8080/"
        },
        "id": "ht09pXsL1pNK",
        "outputId": "cabb5351-c588-434f-dd5c-2e16914db66d"
      },
      "execution_count": 7,
      "outputs": [
        {
          "output_type": "execute_result",
          "data": {
            "text/plain": [
              "[1, 2, 4, 5]"
            ]
          },
          "metadata": {},
          "execution_count": 7
        }
      ]
    },
    {
      "cell_type": "code",
      "source": [
        "a=['abc','def','ghi']\n",
        "a.index('def') #리스트 내에서 매개변수로 입력한 데이터와 일치하는 첫번째 요소의 첨자를 알려줌"
      ],
      "metadata": {
        "colab": {
          "base_uri": "https://localhost:8080/"
        },
        "id": "dpjfHVM61wX7",
        "outputId": "6c528e85-e119-4efd-f314-72a1d1ad189b"
      },
      "execution_count": null,
      "outputs": [
        {
          "output_type": "execute_result",
          "data": {
            "text/plain": [
              "1"
            ]
          },
          "metadata": {},
          "execution_count": 14
        }
      ]
    },
    {
      "cell_type": "code",
      "source": [
        "a=[1,100,2,100,3,100] #매개 변수로 입력한 데이터와 일치하는 요소가 몇 개 존재하는지 센다\n",
        "a.count(100)\n",
        "a.count(200)"
      ],
      "metadata": {
        "colab": {
          "base_uri": "https://localhost:8080/"
        },
        "id": "LCcsFQf215Oh",
        "outputId": "a6437b64-ee45-470a-d107-d8868dd463a1"
      },
      "execution_count": 8,
      "outputs": [
        {
          "output_type": "execute_result",
          "data": {
            "text/plain": [
              "0"
            ]
          },
          "metadata": {},
          "execution_count": 8
        }
      ]
    },
    {
      "cell_type": "code",
      "source": [
        "a=[3,4,5,1,2]\n",
        "a.sort() #리스트 내의 요소를 정렬\n",
        "a\n",
        "a.sort(reverse=True)\n",
        "a"
      ],
      "metadata": {
        "colab": {
          "base_uri": "https://localhost:8080/"
        },
        "id": "dcM-pFBr17_H",
        "outputId": "0dff76d3-c0d8-4a34-d74f-d77c17461b8d"
      },
      "execution_count": null,
      "outputs": [
        {
          "output_type": "execute_result",
          "data": {
            "text/plain": [
              "[5, 4, 3, 2, 1]"
            ]
          },
          "metadata": {},
          "execution_count": 16
        }
      ]
    },
    {
      "cell_type": "code",
      "source": [
        "a=[3,4,5,1,2]\n",
        "a.reverse() #리스트 내 요소의 순서를 반대로 뒤집는다\n",
        "a\n",
        "b=['안','녕','하','세','요']\n",
        "b.reverse()\n",
        "b\n"
      ],
      "metadata": {
        "colab": {
          "base_uri": "https://localhost:8080/"
        },
        "id": "Za5UR53-2BqA",
        "outputId": "827ef5bb-d0da-45d7-de00-9777d7dc967b"
      },
      "execution_count": 9,
      "outputs": [
        {
          "output_type": "execute_result",
          "data": {
            "text/plain": [
              "['요', '세', '하', '녕', '안']"
            ]
          },
          "metadata": {},
          "execution_count": 9
        }
      ]
    },
    {
      "cell_type": "code",
      "source": [
        "b=['안','녕,','하','세','요']\n",
        "b.reverse()\n",
        "b"
      ],
      "metadata": {
        "colab": {
          "base_uri": "https://localhost:8080/"
        },
        "id": "bN5J91fo2Ea2",
        "outputId": "715b17bd-41ef-4ac1-ab98-689efc39c005"
      },
      "execution_count": null,
      "outputs": [
        {
          "output_type": "execute_result",
          "data": {
            "text/plain": [
              "['요', '세', '하', '녕,', '안']"
            ]
          },
          "metadata": {},
          "execution_count": 18
        }
      ]
    },
    {
      "cell_type": "markdown",
      "source": [
        "### 연습문제(리스트)\n",
        "주어진 리스트에 대해 다음 프로그램을 작성하라.\n",
        "a=[2,4,5,9,8]\n",
        "b=[1,2,3,4,5]\n",
        "\n",
        "(1) List a의 2번째 항목을 10으로 변경후 출력하기\n",
        "\n",
        "(2) List a를 내림차순으로 정렬하고 출력하기\n",
        "\n",
        "(3) 두 개 리스트(a와 b)를 결합해서 리스트 c에 넣고 출력하기"
      ],
      "metadata": {
        "id": "iPQuHMZ8kcUq"
      }
    },
    {
      "cell_type": "code",
      "source": [
        "a=[2,4,5,9,8]\n",
        "b=[1,2,3,4,5]\n",
        "a[2]=10\n",
        "print(a)\n",
        "a.sort(reverse=True)\n",
        "print(a)\n",
        "c=a+b\n",
        "print(c)"
      ],
      "metadata": {
        "colab": {
          "base_uri": "https://localhost:8080/"
        },
        "id": "F82bj4uZ2JFz",
        "outputId": "1a1273f3-f9e1-45bc-bc2f-89370f337160"
      },
      "execution_count": 13,
      "outputs": [
        {
          "output_type": "stream",
          "name": "stdout",
          "text": [
            "[2, 4, 10, 9, 8]\n",
            "[10, 9, 8, 4, 2]\n",
            "[10, 9, 8, 4, 2, 1, 2, 3, 4, 5]\n"
          ]
        }
      ]
    },
    {
      "cell_type": "markdown",
      "source": [
        "## 튜플"
      ],
      "metadata": {
        "id": "S5XjIdFE3WxI"
      }
    },
    {
      "cell_type": "code",
      "source": [
        "a=(1,2,\"hello\",4) #tuple 초기화 방법1\n",
        "b=3,4 # tuple 초기화 방법2\n",
        "print(\"1: 길이 len(b)=\",len(b))\n",
        "print(\"2: type type(b)=\",type(b))\n",
        "print(\"3: Tuple slicing a[1:3]=\",a[1:3])\n",
        "print(\"4: Tuple 합치기: a+b=\",a+b)"
      ],
      "metadata": {
        "colab": {
          "base_uri": "https://localhost:8080/"
        },
        "id": "4MDjC1Q22bFE",
        "outputId": "1f11ce96-c39f-4885-8d60-4b86f1b0d42e"
      },
      "execution_count": 14,
      "outputs": [
        {
          "output_type": "stream",
          "name": "stdout",
          "text": [
            "1: 길이 len(b)= 2\n",
            "2: type type(b)= <class 'tuple'>\n",
            "3: Tuple slicing a[1:3]= (2, 'hello')\n",
            "4: Tuple 합치기: a+b= (1, 2, 'hello', 4, 3, 4)\n"
          ]
        }
      ]
    },
    {
      "cell_type": "code",
      "source": [
        "a=1,2,3 #packing 여러 데이터를 튜플로 묶음\n",
        "print(\"a=\",a)\n",
        "\n",
        "one,two,three=a #unpacking\n",
        "print(\"one, two, three=\",one,two,three)\n",
        "print(\"data type of one=\",type(one))\n",
        "\n",
        "city,latitude,longitude='Seoul',37.541,126.986\n",
        "print(city,latitude,longitude)"
      ],
      "metadata": {
        "colab": {
          "base_uri": "https://localhost:8080/"
        },
        "id": "bCKXBBXh20US",
        "outputId": "35b31206-a87b-45bf-d224-ff2c2a4f7b0a"
      },
      "execution_count": null,
      "outputs": [
        {
          "output_type": "stream",
          "name": "stdout",
          "text": [
            "(1, 2, 3)\n",
            "1 2 3\n",
            "<class 'int'>\n",
            "Seoul 37.541 126.986\n"
          ]
        }
      ]
    },
    {
      "cell_type": "markdown",
      "source": [
        "## Dictionary"
      ],
      "metadata": {
        "id": "ZGOC7D5h3YVQ"
      }
    },
    {
      "cell_type": "code",
      "source": [
        "man={'height':175,'weight':60}\n",
        "print('man[\\'height\\']=',man['height'],'man[\\weight\\']=',man['weight'])\n",
        "man['height']=180\n",
        "print(man)"
      ],
      "metadata": {
        "colab": {
          "base_uri": "https://localhost:8080/"
        },
        "id": "QDE07DM03NO_",
        "outputId": "db553cae-fd54-4fbe-8a0f-c2322054d3b0"
      },
      "execution_count": 15,
      "outputs": [
        {
          "output_type": "stream",
          "name": "stdout",
          "text": [
            "man['height']= 175 man[\\weight']= 60\n",
            "{'height': 180, 'weight': 60}\n"
          ]
        }
      ]
    },
    {
      "cell_type": "code",
      "source": [
        "dic={'one':0,'two':2}\n",
        "dic['one']=1 # 값 수정하기\n",
        "print(\"1: 값 수정하기 \",dic)\n",
        "\n",
        "dic['three']=3 # 항목 추가하기\n",
        "print(\"2: 항목 추가하기\", dic)\n",
        "\n",
        "del(dic['one']) #항목 삭제하기\n",
        "print(\"3: 항목삭제하기\", dic)\n",
        "\n",
        "dic1={1:10,2:20}\n",
        "dic2={1:100,3:300}\n",
        "print(\"4: 숫자 key 접근 dic1[1]=\",dic1[1]) # 숫자로 된 key에 접근하기\n",
        "\n",
        "dic1.update(dic2)\n",
        "print(\"5: dic들 결합하기\", dic1)"
      ],
      "metadata": {
        "colab": {
          "base_uri": "https://localhost:8080/"
        },
        "id": "HhgPIZmA3r_8",
        "outputId": "34620e9f-b2ef-4ba6-ac4a-582064e32b85"
      },
      "execution_count": 16,
      "outputs": [
        {
          "output_type": "stream",
          "name": "stdout",
          "text": [
            "1: 값 수정하기  {'one': 1, 'two': 2}\n",
            "2: 항목 추가하기 {'one': 1, 'two': 2, 'three': 3}\n",
            "3: 항목삭제하기 {'two': 2, 'three': 3}\n",
            "4: 숫자 key 접근 dic1[1]= 10\n",
            "5: dic들 결합하기 {1: 100, 2: 20, 3: 300}\n"
          ]
        }
      ]
    },
    {
      "cell_type": "code",
      "source": [
        "dic={'애플':'www.apple.com','파이썬':'www.python.org','마이크로소프트':'www.microsoft.com'}\n",
        "print(dic.keys()) #key들을 출력\n",
        "print(dic.values()) #value들을 출력\n",
        "print(dic.items()) #key-value 쌍들을 출력\n",
        "print('애플' in dic.keys()) #key 내에 존재여부를 확인\n",
        "print('사과' in dic.keys()) #key내에 존재여부를 확인\n",
        "print('www.microsoft.com' in dic.values()) #value 내에 존재 여부를 확인\n",
        "print('www.dictionary.com' in dic.values()) #value 내에 존재여부를 확인\n",
        "\n",
        "dic.pop('애플') #애플이 key인 key-value쌍을 제거하기\n",
        "print(dic) \n",
        "dic.clear() #모든 key-value 쌍을 제거하기\n",
        "print(dic)"
      ],
      "metadata": {
        "colab": {
          "base_uri": "https://localhost:8080/"
        },
        "id": "DRHfsnpa4GS_",
        "outputId": "2a723446-8652-45f0-cb07-c46dc72c3482"
      },
      "execution_count": 17,
      "outputs": [
        {
          "output_type": "stream",
          "name": "stdout",
          "text": [
            "dict_keys(['애플', '파이썬', '마이크로소프트'])\n",
            "dict_values(['www.apple.com', 'www.python.org', 'www.microsoft.com'])\n",
            "dict_items([('애플', 'www.apple.com'), ('파이썬', 'www.python.org'), ('마이크로소프트', 'www.microsoft.com')])\n",
            "True\n",
            "False\n",
            "True\n",
            "False\n",
            "{'파이썬': 'www.python.org', '마이크로소프트': 'www.microsoft.com'}\n",
            "{}\n"
          ]
        }
      ]
    },
    {
      "cell_type": "code",
      "source": [
        "a=[1,2,3]\n",
        "a.append(4)\n",
        "a"
      ],
      "metadata": {
        "colab": {
          "base_uri": "https://localhost:8080/"
        },
        "id": "2rR4-wdS5Gan",
        "outputId": "27978e60-09c7-4403-8489-fa4e0635ea4b"
      },
      "execution_count": null,
      "outputs": [
        {
          "output_type": "execute_result",
          "data": {
            "text/plain": [
              "[1, 2, 3, 4]"
            ]
          },
          "metadata": {},
          "execution_count": 25
        }
      ]
    },
    {
      "cell_type": "code",
      "source": [
        "a=[1,2,3,4,5]\n",
        "a.pop(2)\n",
        "a"
      ],
      "metadata": {
        "colab": {
          "base_uri": "https://localhost:8080/"
        },
        "id": "Qb8TzyIs5MWq",
        "outputId": "47c4d4af-35d9-4371-92a6-0a5bb00a463c"
      },
      "execution_count": null,
      "outputs": [
        {
          "output_type": "execute_result",
          "data": {
            "text/plain": [
              "[1, 2, 4, 5]"
            ]
          },
          "metadata": {},
          "execution_count": 26
        }
      ]
    },
    {
      "cell_type": "code",
      "source": [
        "# dic 객체를 정의하는 코드 2가지 방법으로 작성하기\n",
        "dic={}\n",
        "dic['사과']='apple'\n",
        "dic['배']='pear'\n",
        "print(dic)\n",
        "dic1={'사과':'apple','배':'pear'}\n",
        "print(dic1)"
      ],
      "metadata": {
        "colab": {
          "base_uri": "https://localhost:8080/"
        },
        "id": "8_fI-lwj5Pog",
        "outputId": "d3690487-23c3-4bee-cf65-a304075e69f9"
      },
      "execution_count": null,
      "outputs": [
        {
          "output_type": "stream",
          "name": "stdout",
          "text": [
            "{'사과': 'apple', '배': 'pear'}\n",
            "{'사과': 'apple', '배': 'pear'}\n"
          ]
        }
      ]
    },
    {
      "cell_type": "code",
      "source": [
        "a=not True #false\n",
        "b=not False #true\n",
        "print(a,b)\n",
        "\n",
        "a=not 0 #true\n",
        "b=not -1 #false\n",
        "print(a,b)\n",
        "\n",
        "a=3>2 #true\n",
        "b=2>3 #false\n",
        "print(a,b)\n",
        "\n"
      ],
      "metadata": {
        "colab": {
          "base_uri": "https://localhost:8080/"
        },
        "id": "2K_BEa1z5hom",
        "outputId": "66414572-648b-412a-dc0f-a7389eb449e5"
      },
      "execution_count": null,
      "outputs": [
        {
          "output_type": "stream",
          "name": "stdout",
          "text": [
            "False True\n",
            "True False\n",
            "True False\n"
          ]
        }
      ]
    },
    {
      "cell_type": "code",
      "source": [
        "a=not 'ABC' #false\n",
        "b=not '' #true\n",
        "print(a,b)\n",
        "\n",
        "tuple1=not(1,2,3) #false\n",
        "tuple2=not() #true\n",
        "list=not [] #true\n",
        "dict=not {} #true\n",
        "\n",
        "print(tuple1,tuple2,list,dict)"
      ],
      "metadata": {
        "colab": {
          "base_uri": "https://localhost:8080/"
        },
        "id": "1phsiR3851A7",
        "outputId": "1a7c494f-d60d-4a1e-cdaf-b0bc1afe2090"
      },
      "execution_count": null,
      "outputs": [
        {
          "output_type": "stream",
          "name": "stdout",
          "text": [
            "False True\n",
            "False True True True\n"
          ]
        }
      ]
    },
    {
      "cell_type": "code",
      "source": [
        "print(True and True)\n",
        "print(True and False)\n",
        "print(False and True)\n",
        "print(False and False)\n",
        "print()\n",
        "print(True or True)\n",
        "print(True or False)\n",
        "print(False or True)\n",
        "print(False or False)"
      ],
      "metadata": {
        "colab": {
          "base_uri": "https://localhost:8080/"
        },
        "id": "ANBA1tDZ6GcB",
        "outputId": "c52adc3e-26da-4f52-913e-da1b1a57a912"
      },
      "execution_count": null,
      "outputs": [
        {
          "output_type": "stream",
          "name": "stdout",
          "text": [
            "True\n",
            "False\n",
            "False\n",
            "False\n",
            "\n",
            "True\n",
            "True\n",
            "True\n",
            "False\n"
          ]
        }
      ]
    },
    {
      "cell_type": "code",
      "source": [
        "print(bool(123)) #true\n",
        "print(bool(())) #false\n",
        "print(bool([])) #false\n",
        "print(bool((1,2,3))) #true\n",
        "print(bool({()})) #true"
      ],
      "metadata": {
        "colab": {
          "base_uri": "https://localhost:8080/"
        },
        "id": "pKMCX4bJ6YGn",
        "outputId": "5610cb45-fc2c-4630-ebbe-df6db7a03686"
      },
      "execution_count": null,
      "outputs": [
        {
          "output_type": "stream",
          "name": "stdout",
          "text": [
            "True\n",
            "False\n",
            "False\n",
            "True\n",
            "True\n"
          ]
        }
      ]
    },
    {
      "cell_type": "markdown",
      "source": [
        "## IF 조건문"
      ],
      "metadata": {
        "id": "s-nw4wmW7NIo"
      }
    },
    {
      "cell_type": "code",
      "source": [
        "print(\"Input a number: \")\n",
        "a=int(input())\n",
        "if a==0:\n",
        "  print(\"0으로 나눌 수 없음\")\n",
        "else:\n",
        "  print(\"10/\",a,\"=\",10/a)"
      ],
      "metadata": {
        "colab": {
          "base_uri": "https://localhost:8080/"
        },
        "id": "Mxa1FEiG6z3z",
        "outputId": "e659864e-6654-49b6-8c23-86fa3967da89"
      },
      "execution_count": null,
      "outputs": [
        {
          "output_type": "stream",
          "name": "stdout",
          "text": [
            "Input a number: \n",
            "3\n",
            "10/ 3 = 3.3333333333333335\n"
          ]
        }
      ]
    },
    {
      "cell_type": "code",
      "source": [
        "print('수를 입력하세요: ')\n",
        "a=int(input())\n",
        "\n",
        "if a==0:\n",
        "  print('0으로 나눌 수 없음')\n",
        "elif a%2==0:\n",
        "  print(a,\"는 2의 배수\")\n",
        "elif a<10:\n",
        "  print(a,\"는 10보다 작은 숫자\")\n",
        "else:\n",
        "  print(a,\"는 2의 배수가 아닌 10이상인 수\")"
      ],
      "metadata": {
        "colab": {
          "base_uri": "https://localhost:8080/"
        },
        "id": "z-FaWgAV7dGW",
        "outputId": "2a97cf54-acc0-48c0-9c79-bef5578cf9b4"
      },
      "execution_count": null,
      "outputs": [
        {
          "output_type": "stream",
          "name": "stdout",
          "text": [
            "수를 입력하세요: \n",
            "3\n",
            "3 는 10보다 작은 숫자\n"
          ]
        }
      ]
    },
    {
      "cell_type": "markdown",
      "source": [
        "3개의 숫자를 입력 받아서, if 조건문을 이용해서 최대, 최소, 중간값을 찾아라"
      ],
      "metadata": {
        "id": "6n9dGpNY1pcU"
      }
    },
    {
      "cell_type": "code",
      "source": [
        "a=int(input())\n",
        "b=int(input())\n",
        "c=int(input())\n",
        "min,max,mid=0,0,0\n",
        "\n",
        "if a<b and b<c:\n",
        "  min=a\n",
        "  max=c\n",
        "  mid=b\n",
        "elif a<b and c<b:\n",
        "  min=a\n",
        "  max=b\n",
        "  mid=c\n",
        "elif b<c and a<c:\n",
        "  min=b\n",
        "  max=c\n",
        "  mid=a\n",
        "elif b<c and c<a:\n",
        "  min=b\n",
        "  max=a\n",
        "  mid=c\n",
        "elif c<a and a<b:\n",
        "  min=c\n",
        "  max=b\n",
        "  mid=a\n",
        "else:\n",
        "  min=c\n",
        "  max=a\n",
        "  mid=b\n",
        "\n",
        "print(min,mid,max)"
      ],
      "metadata": {
        "colab": {
          "base_uri": "https://localhost:8080/"
        },
        "id": "5zdGJrs87xKL",
        "outputId": "2ca1cdbb-5d08-4fb7-d608-1ee42a174a19"
      },
      "execution_count": null,
      "outputs": [
        {
          "output_type": "stream",
          "name": "stdout",
          "text": [
            "3\n",
            "2\n",
            "1\n",
            "1 2 3\n"
          ]
        }
      ]
    },
    {
      "cell_type": "markdown",
      "source": [
        "## 반복문"
      ],
      "metadata": {
        "id": "60AdlJVJ9JEF"
      }
    },
    {
      "cell_type": "code",
      "source": [
        "print(\"1: for with list\", end=\" \")\n",
        "for a in [3,2,11.3]:\n",
        "  print(a,end=\" \")\n",
        "\n",
        "print(\"\\n2: for with tuple\", end=\" \")\n",
        "for a in (1,'hello',11.3):\n",
        "  print(a,end=\" \")\n",
        "\n",
        "print(\"\\n3: for with dictionary\")\n",
        "dic={'1st':10,'2nd':20,'3rd':30}\n",
        "for k,v in dic.items():\n",
        "  print(\"\\t{0}: {1}\".format(k,v))\n",
        "\n",
        "print(\"4: for with range\",end=\" \")\n",
        "for b in range(0,10,2): #start, end, step\n",
        "  print(b,end=\" \")"
      ],
      "metadata": {
        "colab": {
          "base_uri": "https://localhost:8080/"
        },
        "id": "no7iVzqw8-Rt",
        "outputId": "efb604bb-400e-424b-caa7-a5a43a5d092e"
      },
      "execution_count": 19,
      "outputs": [
        {
          "output_type": "stream",
          "name": "stdout",
          "text": [
            "1: for with list 3 2 11.3 \n",
            "2: for with tuple 1 hello 11.3 \n",
            "3: for with dictionary\n",
            "\t1st: 10\n",
            "\t2nd: 20\n",
            "\t3rd: 30\n",
            "4: for with range 0 2 4 6 8 "
          ]
        }
      ]
    },
    {
      "cell_type": "code",
      "source": [
        "print(\"몇 번 반복할까요?\")\n",
        "limit=int(input())\n",
        "count=0\n",
        "while count<limit:\n",
        "  count=count+1\n",
        "  print('{0}회 반복.'.format(count))\n",
        "\n",
        "print('반복이 종료되었습니다.')"
      ],
      "metadata": {
        "colab": {
          "base_uri": "https://localhost:8080/"
        },
        "id": "xvAUVpc89l6R",
        "outputId": "078c0172-d7cb-481b-9044-039319e5c99f"
      },
      "execution_count": 20,
      "outputs": [
        {
          "output_type": "stream",
          "name": "stdout",
          "text": [
            "몇 번 반복할까요?\n",
            "3\n",
            "1회 반복.\n",
            "2회 반복.\n",
            "3회 반복.\n",
            "반복이 종료되었습니다.\n"
          ]
        }
      ]
    },
    {
      "cell_type": "markdown",
      "source": [
        "1~100까지 더하기"
      ],
      "metadata": {
        "id": "83M5tSN13phH"
      }
    },
    {
      "cell_type": "code",
      "source": [
        "count=0\n",
        "sum=0\n",
        "while count<100:\n",
        "  count+=1\n",
        "  sum+=count\n",
        "\n",
        "print(sum)"
      ],
      "metadata": {
        "colab": {
          "base_uri": "https://localhost:8080/"
        },
        "id": "UgoQKGK9C49W",
        "outputId": "d6cee06c-c26c-42a8-a453-9d1b74531871"
      },
      "execution_count": null,
      "outputs": [
        {
          "output_type": "stream",
          "name": "stdout",
          "text": [
            "5050\n"
          ]
        }
      ]
    },
    {
      "cell_type": "markdown",
      "source": [
        "1~100사이의 짝수 더하기"
      ],
      "metadata": {
        "id": "ExOUnCcU3q7v"
      }
    },
    {
      "cell_type": "code",
      "source": [
        "count=0\n",
        "sum=0\n",
        "while count<10:\n",
        "  if count%2==0:\n",
        "    sum+=count\n",
        "  count+=1\n",
        "\n",
        "print(sum)\n"
      ],
      "metadata": {
        "colab": {
          "base_uri": "https://localhost:8080/"
        },
        "id": "QvnAdNKpDCwh",
        "outputId": "e3f946cb-5818-4cc1-b3b4-a46949248079"
      },
      "execution_count": null,
      "outputs": [
        {
          "output_type": "stream",
          "name": "stdout",
          "text": [
            "6\n"
          ]
        }
      ]
    },
    {
      "cell_type": "markdown",
      "source": [
        "1~100사이의 홀수 평균 구하기"
      ],
      "metadata": {
        "id": "nggBPaaa3sy_"
      }
    },
    {
      "cell_type": "code",
      "source": [
        "count=0\n",
        "sum=0\n",
        "cnt=0\n",
        "while count<15:\n",
        "  if count%2==1:\n",
        "    sum+=count\n",
        "    cnt+=1\n",
        "  count+=1\n",
        "\n",
        "print(sum/cnt)\n"
      ],
      "metadata": {
        "colab": {
          "base_uri": "https://localhost:8080/"
        },
        "id": "w6N--GGZDaMm",
        "outputId": "c5a60034-0f6d-46f1-c592-3faaa73eae75"
      },
      "execution_count": 25,
      "outputs": [
        {
          "output_type": "stream",
          "name": "stdout",
          "text": [
            "7.0\n"
          ]
        }
      ]
    },
    {
      "cell_type": "code",
      "source": [
        "a=0\n",
        "if a:\n",
        "  print(\"1\")\n",
        "else:\n",
        "  print(\"2\")"
      ],
      "metadata": {
        "colab": {
          "base_uri": "https://localhost:8080/"
        },
        "id": "-gNRvor1D99g",
        "outputId": "9748852f-8b72-4313-dc18-8fc7dd2e2fdb"
      },
      "execution_count": null,
      "outputs": [
        {
          "output_type": "stream",
          "name": "stdout",
          "text": [
            "2\n"
          ]
        }
      ]
    },
    {
      "cell_type": "code",
      "source": [
        "count=0\n",
        "for i in range(7):\n",
        "  if i==4:\n",
        "      continue\n",
        "  for j in range(i):\n",
        "    print(\"*\",end='')\n",
        "  print(\"\\n\")"
      ],
      "metadata": {
        "colab": {
          "base_uri": "https://localhost:8080/"
        },
        "id": "y5gwqbL8ENSQ",
        "outputId": "7a3d5dd5-d58c-4801-dba9-866b9387a15e"
      },
      "execution_count": null,
      "outputs": [
        {
          "output_type": "stream",
          "name": "stdout",
          "text": [
            "\n",
            "\n",
            "*\n",
            "\n",
            "**\n",
            "\n",
            "***\n",
            "\n",
            "*****\n",
            "\n",
            "******\n",
            "\n"
          ]
        }
      ]
    },
    {
      "cell_type": "code",
      "source": [
        "score_legend=['Name','Math','ENG','History']\n",
        "score={'John':[70,80,90],'Tom':[90,95,98],'Mary':[95,85,99]}\n",
        "print(score_legend)\n",
        "for k,v in score.items():\n",
        "  print(k,v)\n"
      ],
      "metadata": {
        "colab": {
          "base_uri": "https://localhost:8080/"
        },
        "id": "W6VxZo8XEuVU",
        "outputId": "6b3341ca-ae13-4985-9fd7-a83dfac116c5"
      },
      "execution_count": null,
      "outputs": [
        {
          "output_type": "stream",
          "name": "stdout",
          "text": [
            "['Name', 'Math', 'ENG', 'History']\n",
            "John [70, 80, 90]\n",
            "Tom [90, 95, 98]\n",
            "Mary [95, 85, 99]\n"
          ]
        }
      ]
    },
    {
      "cell_type": "code",
      "source": [
        "score_legend=['Name','Math','ENG','History','Total','Mean']\n",
        "score={'John':[70,80,90],'Tom':[90,95,98],'Mary':[95,85,99]}\n",
        "print(score_legend)\n",
        "\n",
        "for k,v in score.items():\n",
        "  s_sum=0\n",
        "  s_ave=0\n",
        "  for i in range(len(v)):\n",
        "    s_sum=s_sum+v[i]\n",
        "  s_ave=s_sum/len(v)\n",
        "  score[k].append(s_sum)\n",
        "  score[k].append(s_ave)\n",
        "\n",
        "for k,v in score.items():\n",
        "  print(k,v)\n"
      ],
      "metadata": {
        "colab": {
          "base_uri": "https://localhost:8080/"
        },
        "id": "30Mflw2rpzib",
        "outputId": "ef1228d0-6f8b-442d-e3e5-dd522c08b2ca"
      },
      "execution_count": null,
      "outputs": [
        {
          "output_type": "stream",
          "name": "stdout",
          "text": [
            "['Name', 'Math', 'ENG', 'History', 'Total', 'Mean']\n",
            "John [70, 80, 90, 240, 80.0]\n",
            "Tom [90, 95, 98, 283, 94.33333333333333]\n",
            "Mary [95, 85, 99, 279, 93.0]\n"
          ]
        }
      ]
    },
    {
      "cell_type": "markdown",
      "source": [
        "## 함수"
      ],
      "metadata": {
        "id": "21uYr4mqITfZ"
      }
    },
    {
      "cell_type": "code",
      "source": [
        "# function: absolute value\n",
        "def absolute_value(value):\n",
        "  if(value<0):\n",
        "    abs_value=value*-1\n",
        "  else:\n",
        "    abs_value=value\n",
        "  return abs_value\n",
        "\n",
        "a=-2\n",
        "b=10\n",
        "print(\"abs a=\",absolute_value(a))\n",
        "print(\"abs{0}={1}\".format(b,absolute_value(b)))\n",
        "\n",
        "a=-11.2\n",
        "print(\"abs{0}={1}\".format(a,absolute_value(a)))"
      ],
      "metadata": {
        "colab": {
          "base_uri": "https://localhost:8080/"
        },
        "id": "BwnLDoEZFy6e",
        "outputId": "b1fa9c65-f577-4848-c0b0-d36517b847b9"
      },
      "execution_count": null,
      "outputs": [
        {
          "output_type": "stream",
          "name": "stdout",
          "text": [
            "abs a= 2\n",
            "abs10=10\n",
            "abs-11.2=11.2\n"
          ]
        }
      ]
    },
    {
      "cell_type": "code",
      "source": [
        "# 여러 개의 변수들을 하나의 tuple로 받음\n",
        "# 변수의 개수는 가변적임\n",
        "def merge_string(*text_list):\n",
        "  print(\"\\targument type=\",type(text_list))\n",
        "  result=''\n",
        "  for s in text_list:\n",
        "    result=result+s\n",
        "  return result\n",
        "\n",
        "sentence1=merge_string('Father ','enters ','room.')\n",
        "print(sentence1)\n",
        "sentence2=merge_string('Father ','sleeps')\n",
        "print(sentence2)\n"
      ],
      "metadata": {
        "colab": {
          "base_uri": "https://localhost:8080/"
        },
        "id": "Zo4Yu19oI2O8",
        "outputId": "41279c87-9103-4737-ae3f-ac2e2709b17d"
      },
      "execution_count": 27,
      "outputs": [
        {
          "output_type": "stream",
          "name": "stdout",
          "text": [
            "\targument type= <class 'tuple'>\n",
            "Father enters room.\n",
            "\targument type= <class 'tuple'>\n",
            "Father sleeps\n"
          ]
        }
      ]
    },
    {
      "cell_type": "code",
      "source": [
        "def merge_list_string(text_list):\n",
        "  print(\"\\targment type=\",type(text_list))\n",
        "  result=''\n",
        "  for s in text_list:\n",
        "    result=result+s\n",
        "  return result\n",
        "\n",
        "sentence3=merge_list_string(['Father ','sleeps'])\n",
        "print(sentence3)"
      ],
      "metadata": {
        "colab": {
          "base_uri": "https://localhost:8080/"
        },
        "id": "aBRUHVMbLODk",
        "outputId": "463d0cdd-2e21-46a0-ee7f-19f606258743"
      },
      "execution_count": 28,
      "outputs": [
        {
          "output_type": "stream",
          "name": "stdout",
          "text": [
            "\targment type= <class 'list'>\n",
            "Father sleeps\n"
          ]
        }
      ]
    },
    {
      "cell_type": "code",
      "source": [
        "# dictionary argument\n",
        "def print_team(**players):\n",
        "  print(\"\\targment type=\",type(players))\n",
        "  for k in players.keys():\n",
        "    print('{0}={1}'.format(k,players[k]))\n",
        "\n",
        "print_team(카시야스='GK',호날두='FW',알론소='MF')"
      ],
      "metadata": {
        "colab": {
          "base_uri": "https://localhost:8080/"
        },
        "id": "dFcVubztL5hy",
        "outputId": "4e7389aa-8c87-455d-f903-b0137e1cc622"
      },
      "execution_count": 29,
      "outputs": [
        {
          "output_type": "stream",
          "name": "stdout",
          "text": [
            "\targment type= <class 'dict'>\n",
            "카시야스=GK\n",
            "호날두=FW\n",
            "알론소=MF\n"
          ]
        }
      ]
    },
    {
      "cell_type": "code",
      "source": [
        "# 함수를 변수에 담아서 사용하기\n",
        "def print_something(a):\n",
        "  print(a)\n",
        "\n",
        "func_variable=print_something\n",
        "func_variable(123)\n",
        "func_variable('abc')\n",
        "\n",
        "def plus(a,b):\n",
        "  return a+b\n",
        "def minus(a,b):\n",
        "  return a-b\n",
        "\n",
        "func_list=[plus,minus]\n",
        "print(func_list [0](1,2))\n",
        "print(func_list [1](1,2))\n"
      ],
      "metadata": {
        "colab": {
          "base_uri": "https://localhost:8080/"
        },
        "id": "Gcai0kA-Nko5",
        "outputId": "2993c322-279f-4cd9-9dee-23766724c541"
      },
      "execution_count": null,
      "outputs": [
        {
          "output_type": "stream",
          "name": "stdout",
          "text": [
            "123\n",
            "abc\n",
            "3\n",
            "-1\n"
          ]
        }
      ]
    },
    {
      "cell_type": "code",
      "source": [
        "def print_personnel(name,position='staff',nationality='KOR'):\n",
        "  print('name=',name)\n",
        "  print('position=',position)\n",
        "  print('nationality=',nationality,\"\\n\")\n",
        "\n",
        "print_personnel(name=\"Park SH\")"
      ],
      "metadata": {
        "colab": {
          "base_uri": "https://localhost:8080/"
        },
        "id": "3HYcwvuwPVwz",
        "outputId": "bb238206-9a40-4183-a70b-905a362ed97b"
      },
      "execution_count": null,
      "outputs": [
        {
          "output_type": "stream",
          "name": "stdout",
          "text": [
            "name= Park SH\n",
            "position= staff\n",
            "nationality= KOR \n",
            "\n"
          ]
        }
      ]
    },
    {
      "cell_type": "markdown",
      "source": [
        "가변 매개 변수를 이용해서 입력 받은 평균을 구하는 average()함수"
      ],
      "metadata": {
        "id": "ZarpKYdtAvzI"
      }
    },
    {
      "cell_type": "code",
      "source": [
        "def average(*value_tuple):\n",
        "  mean=0\n",
        "  for v in value_tuple:\n",
        "    mean+=v\n",
        "  mean/=len(value_tuple)\n",
        "  return mean\n",
        "\n",
        "print(average(1,2,3))\n",
        "print(average(1,2,3,4,5))"
      ],
      "metadata": {
        "colab": {
          "base_uri": "https://localhost:8080/"
        },
        "id": "zdnrAa8IQClP",
        "outputId": "4765c8d2-3902-4ca5-8373-76652d4c02cb"
      },
      "execution_count": null,
      "outputs": [
        {
          "output_type": "stream",
          "name": "stdout",
          "text": [
            "2.0\n",
            "3.0\n"
          ]
        }
      ]
    },
    {
      "cell_type": "markdown",
      "source": [
        "## 클래스"
      ],
      "metadata": {
        "id": "tX44-5NtQvuB"
      }
    },
    {
      "cell_type": "code",
      "source": [
        "class Rectangle:\n",
        "  count=0 # class 변수\n",
        "  #구성자(constructor), 초기화에 사용함\n",
        "  def __init__(self,width,height):\n",
        "    self.width=width #instance 변수\n",
        "    self.height=height #instacne 변수\n",
        "    Rectangle.count+=1 #class 변수에 접근\n",
        "  def calcArea(self): #instance함수\n",
        "    area=self.width*self.height\n",
        "    return area\n",
        "  def __call__(self):\n",
        "    print(\"폭:{0}, 높이: {1}, 면적: {2}\".format(self.width,self.height,self.calcArea()))\n",
        "  #정적 메서드\n",
        "  @staticmethod\n",
        "  def isSquare(rectWidth,rectHeight):\n",
        "    return rectWidth==rectHeight\n",
        "  # 클래스 메서드\n",
        "  @classmethod\n",
        "  def printCount(cls):\n",
        "    print(\"\\t 생성된 instance 개수=\",cls.count)\n",
        "\n",
        "  #객체 (instance), rect1 생성\n",
        "rect1=Rectangle(5,5)\n",
        "print(\"instance 멤버변수 접근 width=\",rect1.width)\n",
        "print(\"instance 멤버함수 접근 calcArea=\",rect1.calcArea())\n",
        "\n",
        "  # 정적 method에 접근함\n",
        "  # instance를 생성하지 않고 실행됨\n",
        "print(\"static 멤버 함수 접근 isSquare()=\",Rectangle.isSquare(5,5))\n",
        "rect2=Rectangle(2,5)\n",
        "print(\"class 멤버함수 접근 printCount()\")\n",
        "rect2.printCount()\n",
        "rect2() #__call()__ 함수 호출\n"
      ],
      "metadata": {
        "id": "inn7-3FIQWZi",
        "colab": {
          "base_uri": "https://localhost:8080/"
        },
        "outputId": "172bc7c9-761c-46d8-baf6-db09f1466b0b"
      },
      "execution_count": 30,
      "outputs": [
        {
          "output_type": "stream",
          "name": "stdout",
          "text": [
            "instance 멤버변수 접근 width= 5\n",
            "instance 멤버함수 접근 calcArea= 25\n",
            "static 멤버 함수 접근 isSquare()= True\n",
            "class 멤버함수 접근 printCount()\n",
            "\t 생성된 instance 개수= 2\n",
            "폭:2, 높이: 5, 면적: 10\n"
          ]
        }
      ]
    },
    {
      "cell_type": "markdown",
      "source": [
        "## 상속"
      ],
      "metadata": {
        "id": "34k6GpB5Besg"
      }
    },
    {
      "cell_type": "code",
      "source": [
        "class Base:\n",
        "  def base_method(self):\n",
        "    print(\"Base\")\n",
        "class Derived(Base):\n",
        "  def derived_method(self):\n",
        "    print(\"Derived\")\n",
        "\n",
        "base=Base()\n",
        "print(\"1: \",end=\" \")\n",
        "base.base_method()\n",
        "\n",
        "derived=Derived()\n",
        "print(\"2: \",end=\" \")\n",
        "derived.derived_method()\n",
        "print(\"3: \",end=\" \")\n",
        "derived.base_method()"
      ],
      "metadata": {
        "colab": {
          "base_uri": "https://localhost:8080/"
        },
        "id": "jImM4FoiBfdO",
        "outputId": "bc676e2f-46dc-4e62-e997-c5755a205e65"
      },
      "execution_count": null,
      "outputs": [
        {
          "output_type": "stream",
          "name": "stdout",
          "text": [
            "1:  Base\n",
            "2:  Derived\n",
            "3:  Base\n"
          ]
        }
      ]
    },
    {
      "cell_type": "markdown",
      "source": [
        "### Super()와 오버라이딩"
      ],
      "metadata": {
        "id": "hmaVhhgJavON"
      }
    },
    {
      "cell_type": "code",
      "source": [
        "class Parents:\n",
        "  def p_method(self):\n",
        "    print(\"parents\")\n",
        "  def speak(self):\n",
        "    print(\"Hello Parents\")\n",
        "\n",
        "class Child(Parents):\n",
        "  def c_method(self):\n",
        "    print(\"child\")\n",
        "  def speak(self):\n",
        "    print(\"Hello Child\")\n",
        "  def speak2(self):\n",
        "    super().speak()\n",
        "\n",
        "p=Parents()\n",
        "c=Child()\n",
        "\n",
        "print(\"1: \",end='');p.p_method()\n",
        "print(\"2: \",end='');p.speak()\n",
        "print(\"3: \",end='');c.c_method()\n",
        "print(\"4: \",end='');c.speak()\n",
        "print(\"5(super): \",end='');c.speak2()"
      ],
      "metadata": {
        "id": "YR2CiucSB80p",
        "colab": {
          "base_uri": "https://localhost:8080/"
        },
        "outputId": "d2ff1063-f8d0-4cfb-cf9a-51626bdaaf8c"
      },
      "execution_count": null,
      "outputs": [
        {
          "output_type": "stream",
          "name": "stdout",
          "text": [
            "1: parents\n",
            "2: Hello Parents\n",
            "3: child\n",
            "4: Hello Child\n",
            "5(super): Hello Parents\n"
          ]
        }
      ]
    },
    {
      "cell_type": "code",
      "source": [
        "class CAIGrade:\n",
        "  def __init__(self,name,homework,quiz,exam):\n",
        "    self.__name=name\n",
        "    self.__homework=homework\n",
        "    self.__quiz=quiz\n",
        "    self.__exam=exam\n",
        "\n",
        "  def __call__(self):\n",
        "    print(\"{0}, {1}, {2}, {3}, {4} \".format(self.__name,self.__homework,self.__quiz,self.__exam,self.__ComputeScore()))\n",
        "  \n",
        "  def __ComputeScore(self):\n",
        "    Score=0.2*self.__homework+0.2*self.__quiz+0.6*self.__exam\n",
        "    return Score\n",
        "  \n",
        "  def setScore(self,homework,quiz,exam):\n",
        "    self.__homework=homework\n",
        "    self.__quiz=quiz\n",
        "    self.__exam=exam\n",
        "  \n",
        "CAI1=CAIGrade(\"Plato K\",100,60,60)\n",
        "CAI1()\n",
        "CAI1.setScore(100,60,80)\n",
        "CAI1()"
      ],
      "metadata": {
        "colab": {
          "base_uri": "https://localhost:8080/"
        },
        "id": "gVzhFKpsbgRw",
        "outputId": "8d6d8d8e-a3a6-4dec-fc64-14b89703da2a"
      },
      "execution_count": null,
      "outputs": [
        {
          "output_type": "stream",
          "name": "stdout",
          "text": [
            "Plato K, 100, 60, 60, 68.0 \n",
            "Plato K, 100, 60, 80, 80.0 \n"
          ]
        }
      ]
    },
    {
      "cell_type": "markdown",
      "source": [
        "### 모듈"
      ],
      "metadata": {
        "id": "gzzpweNKdwUE"
      }
    },
    {
      "cell_type": "code",
      "source": [
        "#calculator.py\n",
        "def plus(a,b):\n",
        "  return a+b\n",
        "def minus(a,b):\n",
        "  return a-b\n",
        "def multiplt(a,b):\n",
        "  return a*b\n",
        "def divide(a,b):\n",
        "  return a/b"
      ],
      "metadata": {
        "id": "wTClg3OmdRaB"
      },
      "execution_count": null,
      "outputs": []
    },
    {
      "cell_type": "code",
      "source": [
        "import calculator\n",
        "from calculator import plus\n",
        "import calculator as cal\n",
        "\n",
        "print(\"1: \",calculator.plus(10,5))\n",
        "print(\"2: \",cal.minus(10,5))\n",
        "print(\"3: \",plus(10,5))\n",
        "\n",
        "''' \n",
        "1: 15\n",
        "2: 5\n",
        "3: 15\n",
        "'''"
      ],
      "metadata": {
        "id": "a0Y7QJsje-H3"
      },
      "execution_count": null,
      "outputs": []
    },
    {
      "cell_type": "markdown",
      "source": [
        "### Numpy 라이브러리"
      ],
      "metadata": {
        "id": "I3uQS9I3fXiW"
      }
    },
    {
      "cell_type": "code",
      "source": [
        "import numpy as np\n",
        "x=np.array([1.2,2.3,3.5])\n",
        "print(\"x[2]={0}, type(x)={1}\".format(x[2],type(x)))"
      ],
      "metadata": {
        "id": "dfSKT1k1fWm2",
        "colab": {
          "base_uri": "https://localhost:8080/"
        },
        "outputId": "89b63cf4-f968-434d-d8b0-156b50bd97cd"
      },
      "execution_count": null,
      "outputs": [
        {
          "output_type": "stream",
          "name": "stdout",
          "text": [
            "x[2]=3.5, type(x)=<class 'numpy.ndarray'>\n"
          ]
        }
      ]
    },
    {
      "cell_type": "code",
      "source": [
        "import numpy as np\n",
        "x=np.array([[51,55],[14,19],[0,4]])\n",
        "print(\"1: x={0} and shape of x={1}\".format(x,x.shape))\n",
        "print(\"2: x[0]=\",x[0])\n",
        "print(\"3: x[0][1]=\",x[0][1])\n",
        "print(\"4: x[0,1]=\",x[0,1])"
      ],
      "metadata": {
        "colab": {
          "base_uri": "https://localhost:8080/"
        },
        "id": "au9LSLCQ9mNw",
        "outputId": "5f05d9f6-13b3-45f9-b693-b4b9f4871224"
      },
      "execution_count": null,
      "outputs": [
        {
          "output_type": "stream",
          "name": "stdout",
          "text": [
            "1: x=[[51 55]\n",
            " [14 19]\n",
            " [ 0  4]] and shape of x=(3, 2)\n",
            "2: x[0]= [51 55]\n",
            "3: x[0][1]= 55\n",
            "4: x[0,1]= 55\n"
          ]
        }
      ]
    },
    {
      "cell_type": "code",
      "source": [
        "import numpy as np\n",
        "x=np.array([[51,55],[14,19],[0,4]])\n",
        "x=x.flatten()\n",
        "print(\"1: \",x)\n",
        "print(\"2: x[[0,2,4]]=\",x[[0,2,4]])\n",
        "print(\"3: x[1:3]=\",x[1:3])"
      ],
      "metadata": {
        "colab": {
          "base_uri": "https://localhost:8080/"
        },
        "id": "DVZFtnBF-XzX",
        "outputId": "82478faf-b6e6-4736-de9c-79e27763e06d"
      },
      "execution_count": null,
      "outputs": [
        {
          "output_type": "stream",
          "name": "stdout",
          "text": [
            "1:  [51 55 14 19  0  4]\n",
            "2: x[[0,2,4]]= [51 14  0]\n",
            "3: x[1:3]= [55 14]\n"
          ]
        }
      ]
    },
    {
      "cell_type": "code",
      "source": [
        "x=np.arange(1,6.,1.)\n",
        "print(\"1: x=\",x)\n",
        "y=np.array([2.,3.,4.,5.,6.])\n",
        "print(\"2: x+y=\",x+y)\n",
        "print(\"3: x-y=\",x-y)\n",
        "print(\"4: x*y=\",x*y)\n",
        "print(\"5: x/y=\",x/y)"
      ],
      "metadata": {
        "colab": {
          "base_uri": "https://localhost:8080/"
        },
        "id": "rAM-5CIn__uR",
        "outputId": "b7767b80-af62-41c6-d38c-5a59896c77ec"
      },
      "execution_count": null,
      "outputs": [
        {
          "output_type": "stream",
          "name": "stdout",
          "text": [
            "1: x= [1. 2. 3. 4. 5.]\n",
            "2: x+y= [ 3.  5.  7.  9. 11.]\n",
            "3: x-y= [-1. -1. -1. -1. -1.]\n",
            "4: x*y= [ 2.  6. 12. 20. 30.]\n",
            "5: x/y= [0.5        0.66666667 0.75       0.8        0.83333333]\n"
          ]
        }
      ]
    },
    {
      "cell_type": "code",
      "source": [
        "x=np.arange(0,10,2)\n",
        "for i in x:\n",
        "  print(i, end=' ')"
      ],
      "metadata": {
        "colab": {
          "base_uri": "https://localhost:8080/"
        },
        "id": "9egg-dNrAb1d",
        "outputId": "96afa835-c878-4dad-e10b-1849eb274701"
      },
      "execution_count": null,
      "outputs": [
        {
          "output_type": "stream",
          "name": "stdout",
          "text": [
            "0 2 4 6 8 "
          ]
        }
      ]
    },
    {
      "cell_type": "code",
      "source": [
        "x=np.arange(0.,10.,2.)\n",
        "for i in x:\n",
        "  print(i,end=' ')"
      ],
      "metadata": {
        "colab": {
          "base_uri": "https://localhost:8080/"
        },
        "id": "UZ_bu4f1AjcE",
        "outputId": "0d9f42da-26b9-4b72-fa56-402da404be0c"
      },
      "execution_count": null,
      "outputs": [
        {
          "output_type": "stream",
          "name": "stdout",
          "text": [
            "0.0 2.0 4.0 6.0 8.0 "
          ]
        }
      ]
    },
    {
      "cell_type": "code",
      "source": [
        "import numpy as np\n",
        "\n",
        "x=np.array([[51,55],[14,19],[0,4]])\n",
        "print(\"1: \")\n",
        "for row in x:\n",
        "  print(row)\n",
        "\n",
        "print(\"2: \",end=' ')\n",
        "x=np.arange(0,6,2)\n",
        "for i in x:\n",
        "  print(i,end=' ')\n",
        "print(\"\\n3: \",end=' ')\n",
        "for i in np.arange(4):\n",
        "  print(i,end=' ')"
      ],
      "metadata": {
        "colab": {
          "base_uri": "https://localhost:8080/"
        },
        "id": "HhoKFmWuAoM1",
        "outputId": "7b5a3894-3c31-4375-acf2-aadd04039123"
      },
      "execution_count": null,
      "outputs": [
        {
          "output_type": "stream",
          "name": "stdout",
          "text": [
            "1: \n",
            "[51 55]\n",
            "[14 19]\n",
            "[0 4]\n",
            "2:  0 2 4 \n",
            "3:  0 1 2 3 "
          ]
        }
      ]
    },
    {
      "cell_type": "code",
      "source": [
        "import numpy as np\n",
        "\n",
        "x=np.array([[1,2],[3,4]])\n",
        "y=np.array([[5,6],[7,8]])\n",
        "v=np.array([9,10])\n",
        "w=np.array([11,12])\n",
        "\n",
        "#inner product\n",
        "print(\"1: v.dot(w)=\",v.dot(w)) # 9*11+10*12=219\n",
        "print(\"2: np.dot(v,w)= \",np.dot(v,w)) #9*1!+10*12=219\n",
        "\n",
        "#matrix/vector product\n",
        "print(\"3: x.dot(v)= \",x.dot(v)) # (1*9+2*10), (3*9+4*40)\n",
        "print(\"4: np.dot(x,v)=\",np.dot(x,v)) # (1*9+2*10), (3*9+4*10)\n",
        "\n",
        "print(\"5: x.dot(y)=\",x.dot(y)) \n",
        "print(\"6: np.dot(x,y)=\",np.dot(x,y))"
      ],
      "metadata": {
        "colab": {
          "base_uri": "https://localhost:8080/"
        },
        "id": "4xo2Rk8DCu2q",
        "outputId": "fc883b6d-19de-4922-f3f6-0648eac7cd71"
      },
      "execution_count": null,
      "outputs": [
        {
          "output_type": "stream",
          "name": "stdout",
          "text": [
            "1: v.dot(w)= 219\n",
            "2: np.dot(v,w)=  219\n",
            "3: x.dot(v)=  [29 67]\n",
            "4: np.dot(x,v)= [29 67]\n",
            "5: x.dot(y)= [[19 22]\n",
            " [43 50]]\n",
            "6: np.dot(x,y)= [[19 22]\n",
            " [43 50]]\n"
          ]
        }
      ]
    },
    {
      "cell_type": "markdown",
      "source": [
        "### python list와 np ndarray의 차이점"
      ],
      "metadata": {
        "id": "0sH9pPkLJ6Kt"
      }
    },
    {
      "cell_type": "code",
      "source": [
        "import numpy as np\n",
        "\n",
        "px=[1,2,3]\n",
        "nx=np.array([1,2,3])\n",
        "#list\n",
        "p1=px[0:2]\n",
        "print(p1)\n",
        "p1[0]=2\n",
        "print('python=',px)\n",
        "\n",
        "n1=nx[0:2]\n",
        "print(n1)\n",
        "n1[0]=2\n",
        "print('numpy=',nx)\n",
        "\n",
        "# python list는 어떤 변수에 해당 리스트를 넣고 원소 값을 바꾸어도 본래 리스트 원소 값이 변하지 않지만\n",
        "# npy ndarray는 어떤 변수에 리스트를 넣고 원소 값을 바꾸면 본래 리스트 원소 값이 변한다."
      ],
      "metadata": {
        "id": "whfIF2J3DhhX",
        "colab": {
          "base_uri": "https://localhost:8080/"
        },
        "outputId": "beaaeb21-b4e2-4c87-959e-da6cfb5d9773"
      },
      "execution_count": null,
      "outputs": [
        {
          "output_type": "stream",
          "name": "stdout",
          "text": [
            "[1, 2]\n",
            "python= [1, 2, 3]\n",
            "[1 2]\n",
            "numpy= [2 2 3]\n"
          ]
        }
      ]
    },
    {
      "cell_type": "code",
      "source": [
        "import numpy as np\n",
        "\n",
        "x=np.array([[1,2],[3,4]])\n",
        "\n",
        "print(\"1: np.sum(x)=\",np.sum(x))\n",
        "print(\"2: np.sum(x,axis=0)=\",np.sum(x,axis=0))\n",
        "print(\"3: np.sum(x, axis=1)=\",np.sum(x,axis=1))\n",
        "print(\"4: x.T=\",x.T)\n",
        "\n",
        "v=np.array([1,2,3])\n",
        "print(\"5: v.T=\",v.T)"
      ],
      "metadata": {
        "colab": {
          "base_uri": "https://localhost:8080/"
        },
        "id": "rWstD1-HKOgc",
        "outputId": "2c6df1bc-a5b3-436d-9eea-1d728c35921d"
      },
      "execution_count": null,
      "outputs": [
        {
          "output_type": "stream",
          "name": "stdout",
          "text": [
            "1: np.sum(x)= 10\n",
            "2: np.sum(x,axis=0)= [4 6]\n",
            "3: np.sum(x, axis=1)= [3 7]\n",
            "4: x.T= [[1 3]\n",
            " [2 4]]\n",
            "5: v.T= [1 2 3]\n"
          ]
        }
      ]
    },
    {
      "cell_type": "code",
      "source": [
        ""
      ],
      "metadata": {
        "id": "rp5bVJ0ZL0Pu"
      },
      "execution_count": null,
      "outputs": []
    }
  ]
}